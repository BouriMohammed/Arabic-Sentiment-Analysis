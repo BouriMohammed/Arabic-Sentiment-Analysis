{
 "cells": [
  {
   "cell_type": "markdown",
   "id": "ac20a649",
   "metadata": {},
   "source": [
    "## Sentiment140 dataset with 1.6 million tweets"
   ]
  },
  {
   "cell_type": "markdown",
   "id": "80ee1e12",
   "metadata": {},
   "source": [
    "Dans ce notebook, nous allons mettre en oeuvre une analyse générale de notre base de données en s'appuyant sur les axes suivants :\n",
    "\n",
    "* [I- Importer les bibliothèques importantes](#chapter1)\n",
    "* [II- Importer les données](#chapter2)\n",
    "* [III- Caractéristiques des données ](#chapter3)\n",
    "    * [1- Apercu des données](#section_3_1)\n",
    "        * [1-1 Rennomer les colonnes](#section_3_1_1)\n",
    "    * [2- Le nombre de lignes et colonnes](#section_3_2)\n",
    "    * [3- Les valeurs manquantes](#section_3_3)\n",
    "    * [4- Les doublons](#section_3_4)\n",
    "    * [5- Le type des variables](#section_3_5)\n",
    "* [IV- Analyse de données](#chapter4)\n",
    "    * [1- La distribution des sentiments](#section_4_1)\n",
    "    * [2- La taille des commentaires](#section_4_2)\n",
    "\n",
    "\n",
    "Le lien correspond au téléchargement des données : [Sentiment140 dataset with 1.6 million tweets](https://www.kaggle.com/kazanova/sentiment140) \n"
   ]
  },
  {
   "cell_type": "markdown",
   "id": "42faf1ea",
   "metadata": {},
   "source": [
    "## I- Importer les bibliothèques importantes <a class=\"anchor\" id=\"chapter1\"></a>"
   ]
  },
  {
   "cell_type": "code",
   "execution_count": 1,
   "id": "723f2cdb",
   "metadata": {},
   "outputs": [],
   "source": [
    "import numpy as np\n",
    "import pandas as pd\n",
    "\n",
    "import matplotlib.pyplot as plt\n",
    "import seaborn as sns\n",
    "\n",
    "import os\n",
    "\n",
    "import warnings\n",
    "warnings.filterwarnings(\"ignore\")"
   ]
  },
  {
   "cell_type": "markdown",
   "id": "be528f80",
   "metadata": {},
   "source": [
    "## II- Importer les données <a class=\"anchor\" id=\"chapter2\"></a>"
   ]
  },
  {
   "cell_type": "code",
   "execution_count": 2,
   "id": "892bbc2a",
   "metadata": {},
   "outputs": [],
   "source": [
    "path = 'data_tweet.csv'"
   ]
  },
  {
   "cell_type": "code",
   "execution_count": 3,
   "id": "b552b779",
   "metadata": {},
   "outputs": [],
   "source": [
    "data = pd.read_csv(path, header = None)"
   ]
  },
  {
   "cell_type": "markdown",
   "id": "66f13506",
   "metadata": {},
   "source": [
    "## III- Caractéristiques des données <a class=\"anchor\" id=\"chapter3\"></a>"
   ]
  },
  {
   "cell_type": "markdown",
   "id": "a2606652",
   "metadata": {},
   "source": [
    "Dans cette section, nous allons analyser les différentes caractéristiques des données tel que :\n",
    "\n",
    "- Apercu des données\n",
    "- Le nombre de lignes et colonnes\n",
    "- Les valeurs manquantes\n",
    "- Les doublons\n",
    "- Le type des variables"
   ]
  },
  {
   "cell_type": "markdown",
   "id": "f6c4b54b",
   "metadata": {},
   "source": [
    "### 1- Apercu des données <a class=\"anchor\" id=\"section_3_1\"></a>"
   ]
  },
  {
   "cell_type": "code",
   "execution_count": 4,
   "id": "f83a1176",
   "metadata": {},
   "outputs": [
    {
     "data": {
      "text/html": [
       "<div>\n",
       "<style scoped>\n",
       "    .dataframe tbody tr th:only-of-type {\n",
       "        vertical-align: middle;\n",
       "    }\n",
       "\n",
       "    .dataframe tbody tr th {\n",
       "        vertical-align: top;\n",
       "    }\n",
       "\n",
       "    .dataframe thead th {\n",
       "        text-align: right;\n",
       "    }\n",
       "</style>\n",
       "<table border=\"1\" class=\"dataframe\">\n",
       "  <thead>\n",
       "    <tr style=\"text-align: right;\">\n",
       "      <th></th>\n",
       "      <th>0</th>\n",
       "      <th>1</th>\n",
       "      <th>2</th>\n",
       "      <th>3</th>\n",
       "      <th>4</th>\n",
       "      <th>5</th>\n",
       "    </tr>\n",
       "  </thead>\n",
       "  <tbody>\n",
       "    <tr>\n",
       "      <th>0</th>\n",
       "      <td>0</td>\n",
       "      <td>1467810369</td>\n",
       "      <td>Mon Apr 06 22:19:45 PDT 2009</td>\n",
       "      <td>NO_QUERY</td>\n",
       "      <td>_TheSpecialOne_</td>\n",
       "      <td>@switchfoot http://twitpic.com/2y1zl - Awww, t...</td>\n",
       "    </tr>\n",
       "    <tr>\n",
       "      <th>1</th>\n",
       "      <td>0</td>\n",
       "      <td>1467810672</td>\n",
       "      <td>Mon Apr 06 22:19:49 PDT 2009</td>\n",
       "      <td>NO_QUERY</td>\n",
       "      <td>scotthamilton</td>\n",
       "      <td>is upset that he can't update his Facebook by ...</td>\n",
       "    </tr>\n",
       "    <tr>\n",
       "      <th>2</th>\n",
       "      <td>0</td>\n",
       "      <td>1467810917</td>\n",
       "      <td>Mon Apr 06 22:19:53 PDT 2009</td>\n",
       "      <td>NO_QUERY</td>\n",
       "      <td>mattycus</td>\n",
       "      <td>@Kenichan I dived many times for the ball. Man...</td>\n",
       "    </tr>\n",
       "  </tbody>\n",
       "</table>\n",
       "</div>"
      ],
      "text/plain": [
       "   0           1                             2         3                4  \\\n",
       "0  0  1467810369  Mon Apr 06 22:19:45 PDT 2009  NO_QUERY  _TheSpecialOne_   \n",
       "1  0  1467810672  Mon Apr 06 22:19:49 PDT 2009  NO_QUERY    scotthamilton   \n",
       "2  0  1467810917  Mon Apr 06 22:19:53 PDT 2009  NO_QUERY         mattycus   \n",
       "\n",
       "                                                   5  \n",
       "0  @switchfoot http://twitpic.com/2y1zl - Awww, t...  \n",
       "1  is upset that he can't update his Facebook by ...  \n",
       "2  @Kenichan I dived many times for the ball. Man...  "
      ]
     },
     "execution_count": 4,
     "metadata": {},
     "output_type": "execute_result"
    }
   ],
   "source": [
    "data.head(3)"
   ]
  },
  {
   "cell_type": "markdown",
   "id": "6f630859",
   "metadata": {},
   "source": [
    "#### 1-1 Rennomer les colonnes <a class=\"anchor\" id=\"section_3_1_1\"></a>"
   ]
  },
  {
   "cell_type": "code",
   "execution_count": 5,
   "id": "bc7f6e3d",
   "metadata": {},
   "outputs": [
    {
     "data": {
      "text/html": [
       "<div>\n",
       "<style scoped>\n",
       "    .dataframe tbody tr th:only-of-type {\n",
       "        vertical-align: middle;\n",
       "    }\n",
       "\n",
       "    .dataframe tbody tr th {\n",
       "        vertical-align: top;\n",
       "    }\n",
       "\n",
       "    .dataframe thead th {\n",
       "        text-align: right;\n",
       "    }\n",
       "</style>\n",
       "<table border=\"1\" class=\"dataframe\">\n",
       "  <thead>\n",
       "    <tr style=\"text-align: right;\">\n",
       "      <th></th>\n",
       "      <th>TARGET</th>\n",
       "      <th>ids</th>\n",
       "      <th>date</th>\n",
       "      <th>flag</th>\n",
       "      <th>user</th>\n",
       "      <th>Review</th>\n",
       "    </tr>\n",
       "  </thead>\n",
       "  <tbody>\n",
       "    <tr>\n",
       "      <th>0</th>\n",
       "      <td>0</td>\n",
       "      <td>1467810369</td>\n",
       "      <td>Mon Apr 06 22:19:45 PDT 2009</td>\n",
       "      <td>NO_QUERY</td>\n",
       "      <td>_TheSpecialOne_</td>\n",
       "      <td>@switchfoot http://twitpic.com/2y1zl - Awww, t...</td>\n",
       "    </tr>\n",
       "    <tr>\n",
       "      <th>1</th>\n",
       "      <td>0</td>\n",
       "      <td>1467810672</td>\n",
       "      <td>Mon Apr 06 22:19:49 PDT 2009</td>\n",
       "      <td>NO_QUERY</td>\n",
       "      <td>scotthamilton</td>\n",
       "      <td>is upset that he can't update his Facebook by ...</td>\n",
       "    </tr>\n",
       "    <tr>\n",
       "      <th>2</th>\n",
       "      <td>0</td>\n",
       "      <td>1467810917</td>\n",
       "      <td>Mon Apr 06 22:19:53 PDT 2009</td>\n",
       "      <td>NO_QUERY</td>\n",
       "      <td>mattycus</td>\n",
       "      <td>@Kenichan I dived many times for the ball. Man...</td>\n",
       "    </tr>\n",
       "  </tbody>\n",
       "</table>\n",
       "</div>"
      ],
      "text/plain": [
       "   TARGET         ids                          date      flag  \\\n",
       "0       0  1467810369  Mon Apr 06 22:19:45 PDT 2009  NO_QUERY   \n",
       "1       0  1467810672  Mon Apr 06 22:19:49 PDT 2009  NO_QUERY   \n",
       "2       0  1467810917  Mon Apr 06 22:19:53 PDT 2009  NO_QUERY   \n",
       "\n",
       "              user                                             Review  \n",
       "0  _TheSpecialOne_  @switchfoot http://twitpic.com/2y1zl - Awww, t...  \n",
       "1    scotthamilton  is upset that he can't update his Facebook by ...  \n",
       "2         mattycus  @Kenichan I dived many times for the ball. Man...  "
      ]
     },
     "execution_count": 5,
     "metadata": {},
     "output_type": "execute_result"
    }
   ],
   "source": [
    "data.columns = [\"TARGET\", \"ids\", \"date\", \"flag\", \"user\", \"Review\"]\n",
    "data.head(3)"
   ]
  },
  {
   "cell_type": "markdown",
   "id": "3daa1d27",
   "metadata": {},
   "source": [
    "### 2- Le nombre de lignes et colonnes <a class=\"anchor\" id=\"section_3_2\"></a>"
   ]
  },
  {
   "cell_type": "code",
   "execution_count": 6,
   "id": "d5e1c90a",
   "metadata": {},
   "outputs": [
    {
     "name": "stdout",
     "output_type": "stream",
     "text": [
      "Data contient 1600000 lignes et 6 colonnes.\n"
     ]
    }
   ],
   "source": [
    "print(\"Data contient {} lignes et {} colonnes.\".format(data.shape[0], data.shape[1]))"
   ]
  },
  {
   "cell_type": "markdown",
   "id": "545b402f",
   "metadata": {},
   "source": [
    "|***Colonne :***  |  <span style=\"color:red\">TARGET</span> | ids | date | flage | user | <span style=\"color:blue\">Review</span> |  \n",
    "|---|---|---|---|---|---|---|\n",
    "| |   |   |   | | | |  "
   ]
  },
  {
   "cell_type": "markdown",
   "id": "0ae74c48",
   "metadata": {},
   "source": [
    "### 3- Les valeurs manquantes <a class=\"anchor\" id=\"section_3_3\"></a>"
   ]
  },
  {
   "cell_type": "code",
   "execution_count": 7,
   "id": "b9c398e1",
   "metadata": {},
   "outputs": [
    {
     "data": {
      "text/plain": [
       "TARGET    0\n",
       "ids       0\n",
       "date      0\n",
       "flag      0\n",
       "user      0\n",
       "Review    0\n",
       "dtype: int64"
      ]
     },
     "execution_count": 7,
     "metadata": {},
     "output_type": "execute_result"
    }
   ],
   "source": [
    "data.isnull().sum()"
   ]
  },
  {
   "cell_type": "markdown",
   "id": "83506b49",
   "metadata": {},
   "source": [
    "### 4- Les doublons <a class=\"anchor\" id=\"section_3_4\"></a>"
   ]
  },
  {
   "cell_type": "code",
   "execution_count": 9,
   "id": "1b4187d1",
   "metadata": {},
   "outputs": [
    {
     "name": "stdout",
     "output_type": "stream",
     "text": [
      "Nous avons  0 doublons dans Data.\n"
     ]
    }
   ],
   "source": [
    "print(\"Nous avons  {} doublons dans Data.\".format(data.duplicated().sum()))"
   ]
  },
  {
   "cell_type": "markdown",
   "id": "bebe80f9",
   "metadata": {},
   "source": [
    "***Remarque :***\n",
    "- Nous allons laisser que les colonnes qui nous interessent à savoir : \n",
    "    - **TARGET** \n",
    "    - **Review**"
   ]
  },
  {
   "cell_type": "code",
   "execution_count": 10,
   "id": "e02292d4",
   "metadata": {},
   "outputs": [],
   "source": [
    "data.drop(['ids','date','flag','user'], axis = 1, inplace = True)"
   ]
  },
  {
   "cell_type": "code",
   "execution_count": 11,
   "id": "89a6d5f6",
   "metadata": {},
   "outputs": [
    {
     "data": {
      "text/html": [
       "<div>\n",
       "<style scoped>\n",
       "    .dataframe tbody tr th:only-of-type {\n",
       "        vertical-align: middle;\n",
       "    }\n",
       "\n",
       "    .dataframe tbody tr th {\n",
       "        vertical-align: top;\n",
       "    }\n",
       "\n",
       "    .dataframe thead th {\n",
       "        text-align: right;\n",
       "    }\n",
       "</style>\n",
       "<table border=\"1\" class=\"dataframe\">\n",
       "  <thead>\n",
       "    <tr style=\"text-align: right;\">\n",
       "      <th></th>\n",
       "      <th>TARGET</th>\n",
       "      <th>Review</th>\n",
       "    </tr>\n",
       "  </thead>\n",
       "  <tbody>\n",
       "    <tr>\n",
       "      <th>0</th>\n",
       "      <td>0</td>\n",
       "      <td>@switchfoot http://twitpic.com/2y1zl - Awww, t...</td>\n",
       "    </tr>\n",
       "    <tr>\n",
       "      <th>1</th>\n",
       "      <td>0</td>\n",
       "      <td>is upset that he can't update his Facebook by ...</td>\n",
       "    </tr>\n",
       "    <tr>\n",
       "      <th>2</th>\n",
       "      <td>0</td>\n",
       "      <td>@Kenichan I dived many times for the ball. Man...</td>\n",
       "    </tr>\n",
       "  </tbody>\n",
       "</table>\n",
       "</div>"
      ],
      "text/plain": [
       "   TARGET                                             Review\n",
       "0       0  @switchfoot http://twitpic.com/2y1zl - Awww, t...\n",
       "1       0  is upset that he can't update his Facebook by ...\n",
       "2       0  @Kenichan I dived many times for the ball. Man..."
      ]
     },
     "execution_count": 11,
     "metadata": {},
     "output_type": "execute_result"
    }
   ],
   "source": [
    "data.head(3)"
   ]
  },
  {
   "cell_type": "markdown",
   "id": "cb6a9271",
   "metadata": {},
   "source": [
    "***NB :***\n",
    "- Dans le but de simplifier l'analyse de nos données, nous allons ajouter une nouvelle colonne \" *Sentiment* \" qui contient :\n",
    "    - **0** si **TARGET = 0**\n",
    "    - **1** si **TARGET = 4**"
   ]
  },
  {
   "cell_type": "code",
   "execution_count": 12,
   "id": "b45cd0da",
   "metadata": {},
   "outputs": [],
   "source": [
    "lab_to_sentiment = {0:0, 4:1}\n",
    "\n",
    "def label_decoder(label):\n",
    "    return lab_to_sentiment[label]\n",
    "\n",
    "data[\"sentiment\"] = data.TARGET.apply(lambda x: label_decoder(x))\n"
   ]
  },
  {
   "cell_type": "code",
   "execution_count": 13,
   "id": "87b16b24",
   "metadata": {},
   "outputs": [
    {
     "data": {
      "text/html": [
       "<div>\n",
       "<style scoped>\n",
       "    .dataframe tbody tr th:only-of-type {\n",
       "        vertical-align: middle;\n",
       "    }\n",
       "\n",
       "    .dataframe tbody tr th {\n",
       "        vertical-align: top;\n",
       "    }\n",
       "\n",
       "    .dataframe thead th {\n",
       "        text-align: right;\n",
       "    }\n",
       "</style>\n",
       "<table border=\"1\" class=\"dataframe\">\n",
       "  <thead>\n",
       "    <tr style=\"text-align: right;\">\n",
       "      <th></th>\n",
       "      <th>TARGET</th>\n",
       "      <th>Review</th>\n",
       "      <th>sentiment</th>\n",
       "    </tr>\n",
       "  </thead>\n",
       "  <tbody>\n",
       "    <tr>\n",
       "      <th>0</th>\n",
       "      <td>0</td>\n",
       "      <td>@switchfoot http://twitpic.com/2y1zl - Awww, t...</td>\n",
       "      <td>0</td>\n",
       "    </tr>\n",
       "    <tr>\n",
       "      <th>1</th>\n",
       "      <td>0</td>\n",
       "      <td>is upset that he can't update his Facebook by ...</td>\n",
       "      <td>0</td>\n",
       "    </tr>\n",
       "    <tr>\n",
       "      <th>2</th>\n",
       "      <td>0</td>\n",
       "      <td>@Kenichan I dived many times for the ball. Man...</td>\n",
       "      <td>0</td>\n",
       "    </tr>\n",
       "  </tbody>\n",
       "</table>\n",
       "</div>"
      ],
      "text/plain": [
       "   TARGET                                             Review  sentiment\n",
       "0       0  @switchfoot http://twitpic.com/2y1zl - Awww, t...          0\n",
       "1       0  is upset that he can't update his Facebook by ...          0\n",
       "2       0  @Kenichan I dived many times for the ball. Man...          0"
      ]
     },
     "execution_count": 13,
     "metadata": {},
     "output_type": "execute_result"
    }
   ],
   "source": [
    "data.head(3)"
   ]
  },
  {
   "cell_type": "code",
   "execution_count": 15,
   "id": "7e046b0c",
   "metadata": {},
   "outputs": [
    {
     "name": "stdout",
     "output_type": "stream",
     "text": [
      "0    800000\n",
      "4    800000\n",
      "Name: TARGET, dtype: int64 \n",
      " 0    800000\n",
      "1    800000\n",
      "Name: sentiment, dtype: int64\n"
     ]
    }
   ],
   "source": [
    "print(data.TARGET.value_counts(),'\\n',data.sentiment.value_counts())"
   ]
  },
  {
   "cell_type": "markdown",
   "id": "869d8544",
   "metadata": {},
   "source": [
    "## IV- Analyse de données <a class=\"anchor\" id=\"chapter4\"></a>"
   ]
  },
  {
   "cell_type": "markdown",
   "id": "ad46f353",
   "metadata": {},
   "source": [
    "- Nous allons définir deux fonctions de visualisation pour simplifier la tâche dans les étapes suivantes."
   ]
  },
  {
   "cell_type": "code",
   "execution_count": 16,
   "id": "8819d3b8",
   "metadata": {},
   "outputs": [],
   "source": [
    "def pie(data,col):\n",
    "    labels = data[col].value_counts().keys().tolist()\n",
    "    n = len(labels)\n",
    "    if n==2:\n",
    "        colors = ['#66b3ff', '#fb3999']\n",
    "    elif n==3:\n",
    "        colors = ['#66b3ff', '#fb3999', '#ffcc99']\n",
    "    elif n==4:\n",
    "        colors = ['#66b3ff', '#fb3999', '#ffcc99',\"#66f3ff\"]\n",
    "    elif n==5:\n",
    "        colors = ['#66b3ff', '#fb3999', '#ffcc99',\"#66f3ff\",'#adcc99']\n",
    "    elif n==6:\n",
    "        colors = ['#66b3ff', '#fb3999', '#ffcc99',\"#66f3ff\",'#adcc99',\"#db7f23\"]\n",
    "    \n",
    "    fig1, f1 = plt.subplots()\n",
    "    f1.pie(data[col].value_counts(), labels=labels, colors = colors, autopct='%1.1f%%',shadow=False, startangle=60) \n",
    "    f1.axis('equal')\n",
    "    plt.tight_layout()\n",
    "    plt.show()\n",
    "    \n",
    "def histo(data,col):\n",
    "    plt.figure(figsize = (10, 8))\n",
    "    sns.histplot(data=data, x=col, hue = data[col], fill=True)"
   ]
  },
  {
   "cell_type": "markdown",
   "id": "6540728a",
   "metadata": {},
   "source": [
    "### 1- La distribution des sentiments <a class=\"anchor\" id=\"section_4_1\"></a>"
   ]
  },
  {
   "cell_type": "code",
   "execution_count": 17,
   "id": "b21a8f0d",
   "metadata": {},
   "outputs": [
    {
     "data": {
      "image/png": "[encoded data removed]",
      "text/plain": [
       "<Figure size 432x288 with 1 Axes>"
      ]
     },
     "metadata": {},
     "output_type": "display_data"
    }
   ],
   "source": [
    "pie(data,\"sentiment\")"
   ]
  },
  {
   "cell_type": "code",
   "execution_count": 18,
   "id": "863f5d52",
   "metadata": {},
   "outputs": [
    {
     "data": {
      "image/png": "[encoded data removed]",
      "text/plain": [
       "<Figure size 720x576 with 1 Axes>"
      ]
     },
     "metadata": {
      "needs_background": "light"
     },
     "output_type": "display_data"
    }
   ],
   "source": [
    "histo(data,\"sentiment\")"
   ]
  },
  {
   "cell_type": "markdown",
   "id": "f62acb67",
   "metadata": {},
   "source": [
    "***Commentaire :***\n",
    "\n",
    "- D'après les résultats obtenus, on peut conclure qu'on a ***une base de données équilibrée***."
   ]
  },
  {
   "cell_type": "markdown",
   "id": "5c8a640d",
   "metadata": {},
   "source": [
    "### 2- La taille des commentaires <a class=\"anchor\" id=\"section_4_2\"></a>"
   ]
  },
  {
   "cell_type": "markdown",
   "id": "0273d8d9",
   "metadata": {},
   "source": [
    "Dans le but d'avoir une idée générale sur le comportement des utilisateurs, la taille des commentaires peut nous donner un aperçu sur l'utilisation de la langue.\n",
    "\n",
    "Or, même pour l'étape de la vectorisation des données, cette partie va nous donner une idée sur la taille des vecteurs et même du vocabulaire."
   ]
  },
  {
   "cell_type": "code",
   "execution_count": 19,
   "id": "18a149c7",
   "metadata": {},
   "outputs": [],
   "source": [
    "def compte_mots(phrase):\n",
    "    return len(phrase.split())"
   ]
  },
  {
   "cell_type": "code",
   "execution_count": 20,
   "id": "fe01054c",
   "metadata": {},
   "outputs": [],
   "source": [
    "positive_data = data[data[\"sentiment\"] == 0]\n",
    "\n",
    "negative_data = data[data[\"sentiment\"] == 1]"
   ]
  },
  {
   "cell_type": "code",
   "execution_count": 21,
   "id": "b7978780",
   "metadata": {},
   "outputs": [],
   "source": [
    "positive_data[\"Number_of_words\"] = positive_data.Review.apply(lambda x: compte_mots(x))\n",
    "negative_data[\"Number_of_words\"] = negative_data.Review.apply(lambda x: compte_mots(x))"
   ]
  },
  {
   "cell_type": "code",
   "execution_count": 22,
   "id": "5e65da2d",
   "metadata": {},
   "outputs": [
    {
     "name": "stdout",
     "output_type": "stream",
     "text": [
      "Le maximum de mots utilisé dans les reviews positives est : 57\n",
      "Le maximum de mots utilisé dans les reviews négatives est : 64\n"
     ]
    }
   ],
   "source": [
    "print(\"Le maximum de mots utilisé dans les reviews positives est :\", max(positive_data.Number_of_words))\n",
    "print(\"Le maximum de mots utilisé dans les reviews négatives est :\", max(negative_data.Number_of_words))"
   ]
  },
  {
   "cell_type": "markdown",
   "id": "99a29aa5",
   "metadata": {},
   "source": [
    "***Remarque :***\n",
    "\n",
    "- Dans le but d'avoir une idée générale sur le comportement des gens qui laissent des commentaires positifs contre ceux qu'ils laissent des commentaires négatifs, nous allons visualiser le graphe suivant : "
   ]
  },
  {
   "cell_type": "code",
   "execution_count": 23,
   "id": "f3bf2532",
   "metadata": {},
   "outputs": [
    {
     "data": {
      "text/plain": [
       "(0.0, 200.0)"
      ]
     },
     "execution_count": 23,
     "metadata": {},
     "output_type": "execute_result"
    },
    {
     "data": {
      "image/png": "[encoded data removed]",
      "text/plain": [
       "<Figure size 720x648 with 1 Axes>"
      ]
     },
     "metadata": {
      "needs_background": "light"
     },
     "output_type": "display_data"
    }
   ],
   "source": [
    "plt.figure(figsize=(10,9))\n",
    "\n",
    "p1=sns.kdeplot(positive_data['Number_of_words'], hue = data['sentiment'],  shade=True, color=\"r\")\n",
    "p1=sns.kdeplot(negative_data['Number_of_words'], shade=True, color=\"b\")\n",
    "\n",
    "plt.xlim(0, 200)\n"
   ]
  },
  {
   "cell_type": "markdown",
   "id": "5dd692df",
   "metadata": {},
   "source": [
    "***Commentaire :***\n",
    "\n",
    "- On remarque qu'il y a le même comportement entre les utilisateurs."
   ]
  }
 ],
 "metadata": {
  "kernelspec": {
   "display_name": "Python 3",
   "language": "python",
   "name": "python3"
  },
  "language_info": {
   "codemirror_mode": {
    "name": "ipython",
    "version": 3
   },
   "file_extension": ".py",
   "mimetype": "text/x-python",
   "name": "python",
   "nbconvert_exporter": "python",
   "pygments_lexer": "ipython3",
   "version": "3.8.8"
  }
 },
 "nbformat": 4,
 "nbformat_minor": 5
}
