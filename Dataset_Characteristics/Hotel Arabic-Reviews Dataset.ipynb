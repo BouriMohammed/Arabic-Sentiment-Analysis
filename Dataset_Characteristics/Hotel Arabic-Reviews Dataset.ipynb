{
 "cells": [
  {
   "cell_type": "markdown",
   "id": "aa4686a7",
   "metadata": {},
   "source": [
    "## Hotel Arabic-Reviews Dataset"
   ]
  },
  {
   "cell_type": "markdown",
   "id": "80ee1e12",
   "metadata": {},
   "source": [
    "Dans ce notebook, nous allons mettre en oeuvre une analyse générale de notre base de données en s'appuyant sur les axes suivants :\n",
    "\n",
    "* [I- Importer les bibliothèques importantes](#chapter1)\n",
    "* [II- Importer les données](#chapter2)\n",
    "* [III- Caractéristiques des données ](#chapter3)\n",
    "    * [1- Apercu des données](#section_3_1)\n",
    "    * [2- Le nombre de lignes et colonnes](#section_3_2)\n",
    "    * [3- Les valeurs manquantes](#section_3_3)\n",
    "    * [4- Les doublons](#section_3_4)\n",
    "    * [5- Le type des variables](#section_3_5)\n",
    "* [IV- Analyse de données](#chapter4)\n",
    "    * [1- La distribution des sentiments](#section_4_1)\n",
    "    * [2- La taille des commentaires](#section_4_2)\n",
    "\n",
    "\n",
    "Le lien correspond au téléchargement des données : [Hotel Arabic-Reviews Dataset](https://github.com/elnagara/HARD-Arabic-Dataset) \n"
   ]
  },
  {
   "cell_type": "markdown",
   "id": "42faf1ea",
   "metadata": {},
   "source": [
    "## I- Importer les bibliothèques importantes <a class=\"anchor\" id=\"chapter1\"></a>"
   ]
  },
  {
   "cell_type": "code",
   "execution_count": 1,
   "id": "8f344c55",
   "metadata": {},
   "outputs": [],
   "source": [
    "import numpy as np \n",
    "import pandas as pd\n",
    "\n",
    "import matplotlib.pyplot as plt\n",
    "import seaborn as sns \n",
    "\n",
    "import warnings\n",
    "warnings.filterwarnings(\"ignore\")"
   ]
  },
  {
   "cell_type": "markdown",
   "id": "be528f80",
   "metadata": {},
   "source": [
    "## II- Importer les données <a class=\"anchor\" id=\"chapter2\"></a>"
   ]
  },
  {
   "cell_type": "code",
   "execution_count": 2,
   "id": "19b49fb4",
   "metadata": {},
   "outputs": [],
   "source": [
    "path_data = r\"C:\\Users\\Mohammed\\Documents\\Projets\\Cross lingual\\HARD.xlsx\"\n",
    "\n",
    "HARD = pd.read_excel(path_data)"
   ]
  },
  {
   "cell_type": "markdown",
   "id": "66f13506",
   "metadata": {},
   "source": [
    "## III- Caractéristiques des données <a class=\"anchor\" id=\"chapter3\"></a>"
   ]
  },
  {
   "cell_type": "markdown",
   "id": "a2606652",
   "metadata": {},
   "source": [
    "Dans cette section, nous allons analyser les différentes caractéristiques des données tel que :\n",
    "\n",
    "- Apercu des données\n",
    "- Le nombre de lignes et colonnes\n",
    "- Les valeurs manquantes\n",
    "- Les doublons\n",
    "- Le type des variables"
   ]
  },
  {
   "cell_type": "code",
   "execution_count": 3,
   "id": "b9250521",
   "metadata": {},
   "outputs": [],
   "source": [
    "data = HARD"
   ]
  },
  {
   "cell_type": "markdown",
   "id": "f6c4b54b",
   "metadata": {},
   "source": [
    "### 1- Apercu des données <a class=\"anchor\" id=\"section_3_1\"></a>"
   ]
  },
  {
   "cell_type": "code",
   "execution_count": 4,
   "id": "0bdedb27",
   "metadata": {},
   "outputs": [
    {
     "data": {
      "text/html": [
       "<div>\n",
       "<style scoped>\n",
       "    .dataframe tbody tr th:only-of-type {\n",
       "        vertical-align: middle;\n",
       "    }\n",
       "\n",
       "    .dataframe tbody tr th {\n",
       "        vertical-align: top;\n",
       "    }\n",
       "\n",
       "    .dataframe thead th {\n",
       "        text-align: right;\n",
       "    }\n",
       "</style>\n",
       "<table border=\"1\" class=\"dataframe\">\n",
       "  <thead>\n",
       "    <tr style=\"text-align: right;\">\n",
       "      <th></th>\n",
       "      <th>no</th>\n",
       "      <th>Hotel name</th>\n",
       "      <th>rating</th>\n",
       "      <th>user type</th>\n",
       "      <th>room type</th>\n",
       "      <th>nights</th>\n",
       "      <th>review</th>\n",
       "    </tr>\n",
       "  </thead>\n",
       "  <tbody>\n",
       "    <tr>\n",
       "      <th>0</th>\n",
       "      <td>2</td>\n",
       "      <td>فندق 72</td>\n",
       "      <td>2</td>\n",
       "      <td>مسافر منفرد</td>\n",
       "      <td>غرفة ديلوكس مزدوجة أو توأم</td>\n",
       "      <td>أقمت ليلة واحدة</td>\n",
       "      <td>“ممتاز”. النظافة والطاقم متعاون.</td>\n",
       "    </tr>\n",
       "    <tr>\n",
       "      <th>1</th>\n",
       "      <td>3</td>\n",
       "      <td>فندق 72</td>\n",
       "      <td>5</td>\n",
       "      <td>زوج</td>\n",
       "      <td>غرفة ديلوكس مزدوجة أو توأم</td>\n",
       "      <td>أقمت ليلة واحدة</td>\n",
       "      <td>استثنائي. سهولة إنهاء المعاملة في الاستقبال. ل...</td>\n",
       "    </tr>\n",
       "    <tr>\n",
       "      <th>2</th>\n",
       "      <td>16</td>\n",
       "      <td>فندق 72</td>\n",
       "      <td>5</td>\n",
       "      <td>زوج</td>\n",
       "      <td>-</td>\n",
       "      <td>أقمت ليلتين</td>\n",
       "      <td>استثنائي. انصح بأختيار الاسويت و بالاخص غرفه ر...</td>\n",
       "    </tr>\n",
       "  </tbody>\n",
       "</table>\n",
       "</div>"
      ],
      "text/plain": [
       "   no Hotel name  rating    user type                   room type  \\\n",
       "0   2    فندق 72       2  مسافر منفرد  غرفة ديلوكس مزدوجة أو توأم   \n",
       "1   3    فندق 72       5          زوج  غرفة ديلوكس مزدوجة أو توأم   \n",
       "2  16    فندق 72       5          زوج                           -   \n",
       "\n",
       "            nights                                             review  \n",
       "0  أقمت ليلة واحدة                  “ممتاز”. النظافة والطاقم متعاون.   \n",
       "1  أقمت ليلة واحدة  استثنائي. سهولة إنهاء المعاملة في الاستقبال. ل...  \n",
       "2      أقمت ليلتين  استثنائي. انصح بأختيار الاسويت و بالاخص غرفه ر...  "
      ]
     },
     "execution_count": 4,
     "metadata": {},
     "output_type": "execute_result"
    }
   ],
   "source": [
    "data.head(3)"
   ]
  },
  {
   "cell_type": "markdown",
   "id": "3daa1d27",
   "metadata": {},
   "source": [
    "### 2- Le nombre de lignes et colonnes <a class=\"anchor\" id=\"section_3_2\"></a>"
   ]
  },
  {
   "cell_type": "code",
   "execution_count": 5,
   "id": "d5e1c90a",
   "metadata": {},
   "outputs": [
    {
     "name": "stdout",
     "output_type": "stream",
     "text": [
      "Data contient 105698 lignes et 7 colonnes.\n"
     ]
    }
   ],
   "source": [
    "print(\"Data contient {} lignes et {} colonnes.\".format(data.shape[0], data.shape[1]))"
   ]
  },
  {
   "cell_type": "markdown",
   "id": "545b402f",
   "metadata": {},
   "source": [
    "|***Colonne :***  | no | Hotel name | <span style=\"color:red\">Rating</span> |  User type | Room type |  Night |  <span style=\"color:red\">Review</span> | \n",
    "|---|---|---|---|---|---|---|---|\n",
    "| |   |   |   | | | |  |"
   ]
  },
  {
   "cell_type": "markdown",
   "id": "0ae74c48",
   "metadata": {},
   "source": [
    "### 3- Les valeurs manquantes <a class=\"anchor\" id=\"section_3_3\"></a>"
   ]
  },
  {
   "cell_type": "code",
   "execution_count": 6,
   "id": "b9c398e1",
   "metadata": {},
   "outputs": [
    {
     "data": {
      "text/plain": [
       "no            0\n",
       "Hotel name    0\n",
       "rating        0\n",
       "user type     0\n",
       "room type     0\n",
       "nights        0\n",
       "review        0\n",
       "dtype: int64"
      ]
     },
     "execution_count": 6,
     "metadata": {},
     "output_type": "execute_result"
    }
   ],
   "source": [
    "data.isnull().sum()"
   ]
  },
  {
   "cell_type": "markdown",
   "id": "83506b49",
   "metadata": {},
   "source": [
    "### 4- Les doublons <a class=\"anchor\" id=\"section_3_4\"></a>"
   ]
  },
  {
   "cell_type": "code",
   "execution_count": 7,
   "id": "1b4187d1",
   "metadata": {},
   "outputs": [
    {
     "name": "stdout",
     "output_type": "stream",
     "text": [
      "On a  0 doublons dans Data.\n"
     ]
    }
   ],
   "source": [
    "print(\"On a  {} doublons dans Data.\".format(data.duplicated().sum()))"
   ]
  },
  {
   "cell_type": "markdown",
   "id": "1bb9a141",
   "metadata": {},
   "source": [
    "### 5- Le type des variables <a class=\"anchor\" id=\"section_3_5\"></a>"
   ]
  },
  {
   "cell_type": "code",
   "execution_count": 8,
   "id": "15243812",
   "metadata": {},
   "outputs": [
    {
     "data": {
      "text/plain": [
       "no             int64\n",
       "Hotel name    object\n",
       "rating         int64\n",
       "user type     object\n",
       "room type     object\n",
       "nights        object\n",
       "review        object\n",
       "dtype: object"
      ]
     },
     "execution_count": 8,
     "metadata": {},
     "output_type": "execute_result"
    }
   ],
   "source": [
    "data.dtypes"
   ]
  },
  {
   "cell_type": "markdown",
   "id": "b1aee77d",
   "metadata": {},
   "source": [
    "|***Colonne :***  | no | Hotel name | <span style=\"color:red\">Rating</span> |  User type | Room type |  Night |  <span style=\"color:red\">Review</span> | \n",
    "|---|---|---|---|---|---|---|---|\n",
    "|***Type :***  | int64 | Object | <span style=\"color:blue\">int64</span> | int64 |int64 | int64 |  <span style=\"color:blue\">Objet</span> | "
   ]
  },
  {
   "cell_type": "markdown",
   "id": "869d8544",
   "metadata": {},
   "source": [
    "## IV- Analyse de données <a class=\"anchor\" id=\"chapter4\"></a>"
   ]
  },
  {
   "cell_type": "markdown",
   "id": "ad46f353",
   "metadata": {},
   "source": [
    "- Nous allons définir deux fonctions de visualisation pour simplifier la tâche dans les étapes suivantes."
   ]
  },
  {
   "cell_type": "code",
   "execution_count": 9,
   "id": "8819d3b8",
   "metadata": {},
   "outputs": [],
   "source": [
    "def pie(data,col):\n",
    "    labels = data[col].value_counts().keys().tolist()\n",
    "    n = len(labels)\n",
    "    if n==2:\n",
    "        colors = ['#66b3ff', '#fb3999']\n",
    "    elif n==3:\n",
    "        colors = ['#66b3ff', '#fb3999', '#ffcc99']\n",
    "    elif n==4:\n",
    "        colors = ['#66b3ff', '#fb3999', '#ffcc99',\"#66f3ff\"]\n",
    "    elif n==5:\n",
    "        colors = ['#66b3ff', '#fb3999', '#ffcc99',\"#66f3ff\",'#adcc99']\n",
    "    elif n==6:\n",
    "        colors = ['#66b3ff', '#fb3999', '#ffcc99',\"#66f3ff\",'#adcc99',\"#db7f23\"]\n",
    "    \n",
    "    fig1, f1 = plt.subplots()\n",
    "    f1.pie(data[col].value_counts(), labels=labels, colors = colors, autopct='%1.1f%%',shadow=False, startangle=60) \n",
    "    f1.axis('equal')\n",
    "    plt.tight_layout()\n",
    "    plt.show()\n",
    "    \n",
    "def histo(data,col):\n",
    "    plt.figure(figsize = (10, 8))\n",
    "    sns.histplot(data=data, x=col, hue = data[col], fill=True)"
   ]
  },
  {
   "cell_type": "markdown",
   "id": "6540728a",
   "metadata": {},
   "source": [
    "### 1- La distribution des sentiments <a class=\"anchor\" id=\"section_4_1\"></a>"
   ]
  },
  {
   "cell_type": "code",
   "execution_count": 10,
   "id": "6f24da11",
   "metadata": {
    "scrolled": true
   },
   "outputs": [
    {
     "data": {
      "text/plain": [
       "2    0.363933\n",
       "4    0.250241\n",
       "5    0.249759\n",
       "1    0.136067\n",
       "Name: rating, dtype: float64"
      ]
     },
     "execution_count": 10,
     "metadata": {},
     "output_type": "execute_result"
    }
   ],
   "source": [
    "data.rating.value_counts(normalize = True)"
   ]
  },
  {
   "cell_type": "markdown",
   "id": "a5e3e648",
   "metadata": {},
   "source": [
    "|  ***Valeurs :*** |  1 | 2 | 4  | 5  |\n",
    "|---|---|---|---|---|\n",
    "|  ***Pourcentage :*** | 13.6% | 36.4%  | 25%  | 25%  |"
   ]
  },
  {
   "cell_type": "code",
   "execution_count": 11,
   "id": "0e456c19",
   "metadata": {},
   "outputs": [
    {
     "data": {
      "image/png": "[encoded data removed]",
      "text/plain": [
       "<Figure size 432x288 with 1 Axes>"
      ]
     },
     "metadata": {},
     "output_type": "display_data"
    }
   ],
   "source": [
    "pie(data, \"rating\")"
   ]
  },
  {
   "cell_type": "markdown",
   "id": "f62acb67",
   "metadata": {},
   "source": [
    "***Commentaire :***\n",
    "\n",
    "- D'après les résultats obtenus, on peut conclure qu'on a ***une base de données équilibrée***."
   ]
  },
  {
   "cell_type": "markdown",
   "id": "63b79c3a",
   "metadata": {},
   "source": [
    "Dans l'étape suivante, on va considérer que :\n",
    "\n",
    "- Les reviews qui ont une note de 1 et 2 sont ***des reviews négatives***.\n",
    "- Les reviews qui ont une note de 4 et 5 sont ***des reviews positives***.\n"
   ]
  },
  {
   "cell_type": "code",
   "execution_count": 12,
   "id": "fe01054c",
   "metadata": {},
   "outputs": [],
   "source": [
    "positive_reviews = data[data[\"rating\"] > 3]\n",
    "positive_reviews[\"sentiment\"] = 1\n",
    "\n",
    "negative_reviews = data[data[\"rating\"] < 3]\n",
    "negative_reviews[\"sentiment\"] = 0\n",
    "\n",
    "data = pd.concat([positive_reviews, negative_reviews], ignore_index = True)"
   ]
  },
  {
   "cell_type": "code",
   "execution_count": 13,
   "id": "468c2503",
   "metadata": {},
   "outputs": [
    {
     "name": "stdout",
     "output_type": "stream",
     "text": [
      "data contient 105698 lignes.\n",
      "Positive_reviews contient 52849 lignes.\n",
      "Negative_reviews contient 52849 lignes.\n"
     ]
    }
   ],
   "source": [
    "print(\"data contient {} lignes.\".format(data.shape[0]))\n",
    "\n",
    "print(\"Positive_reviews contient {} lignes.\".format(positive_reviews.shape[0]))\n",
    "\n",
    "print(\"Negative_reviews contient {} lignes.\".format(negative_reviews.shape[0]))"
   ]
  },
  {
   "cell_type": "code",
   "execution_count": 14,
   "id": "1ffd4a62",
   "metadata": {},
   "outputs": [
    {
     "data": {
      "image/png": "[encoded data removed]",
      "text/plain": [
       "<Figure size 432x288 with 1 Axes>"
      ]
     },
     "metadata": {},
     "output_type": "display_data"
    }
   ],
   "source": [
    "pie(data,\"sentiment\")"
   ]
  },
  {
   "cell_type": "code",
   "execution_count": 15,
   "id": "e5606c3c",
   "metadata": {},
   "outputs": [
    {
     "data": {
      "image/png": "[encoded data removed]",
      "text/plain": [
       "<Figure size 720x576 with 1 Axes>"
      ]
     },
     "metadata": {
      "needs_background": "light"
     },
     "output_type": "display_data"
    }
   ],
   "source": [
    "histo(data,\"sentiment\")"
   ]
  },
  {
   "cell_type": "markdown",
   "id": "5c8a640d",
   "metadata": {},
   "source": [
    "### 2- La taille des commentaires <a class=\"anchor\" id=\"section_4_2\"></a>"
   ]
  },
  {
   "cell_type": "markdown",
   "id": "0273d8d9",
   "metadata": {},
   "source": [
    "Dans le but d'avoir une idée générale sur le comportement des utilisateurs, la taille des commentaires peut nous donner un aperçu sur l'utilisation de la langue.\n",
    "\n",
    "Or, même pour l'étape de la vectorisation des données, cette partie va nous donner une idée sur la taille des vecteurs et même du vocabulaire."
   ]
  },
  {
   "cell_type": "code",
   "execution_count": 16,
   "id": "18a149c7",
   "metadata": {},
   "outputs": [],
   "source": [
    "def compte_mots(phrase):\n",
    "    return len(phrase.split())\n",
    "\n",
    "data[\"len_review\"] = data[\"review\"].apply(compte_mots)\n",
    "positive_reviews['len_review'] = positive_reviews[\"review\"].apply(compte_mots)\n",
    "negative_reviews['len_review'] = negative_reviews[\"review\"].apply(compte_mots)"
   ]
  },
  {
   "cell_type": "code",
   "execution_count": 17,
   "id": "5e65da2d",
   "metadata": {},
   "outputs": [
    {
     "name": "stdout",
     "output_type": "stream",
     "text": [
      "Le maximum de mots utilisé dans les reviews positives est : 570\n",
      "Le maximum de mots utilisé dans les reviews négatives est : 614\n"
     ]
    }
   ],
   "source": [
    "print(\"Le maximum de mots utilisé dans les reviews positives est :\", max(positive_reviews.len_review))\n",
    "print(\"Le maximum de mots utilisé dans les reviews négatives est :\", max(negative_reviews.len_review))"
   ]
  },
  {
   "cell_type": "code",
   "execution_count": 18,
   "id": "f3bf2532",
   "metadata": {},
   "outputs": [
    {
     "data": {
      "text/plain": [
       "(0.0, 200.0)"
      ]
     },
     "execution_count": 18,
     "metadata": {},
     "output_type": "execute_result"
    },
    {
     "data": {
      "image/png": "[encoded data removed]",
      "text/plain": [
       "<Figure size 720x648 with 1 Axes>"
      ]
     },
     "metadata": {
      "needs_background": "light"
     },
     "output_type": "display_data"
    }
   ],
   "source": [
    "plt.figure(figsize=(10,9))\n",
    "\n",
    "p1=sns.kdeplot(positive_reviews['len_review'], hue = data['sentiment'],  shade=True, color=\"r\")\n",
    "p1=sns.kdeplot(negative_reviews['len_review'], shade=True, color=\"b\")\n",
    "\n",
    "plt.xlim(0, 200)\n"
   ]
  },
  {
   "cell_type": "markdown",
   "id": "5dd692df",
   "metadata": {},
   "source": [
    "***Commentaire :***\n",
    "\n",
    "- On remarque qu'il y a le même comportement entre les utilisateurs."
   ]
  }
 ],
 "metadata": {
  "kernelspec": {
   "display_name": "Python 3",
   "language": "python",
   "name": "python3"
  },
  "language_info": {
   "codemirror_mode": {
    "name": "ipython",
    "version": 3
   },
   "file_extension": ".py",
   "mimetype": "text/x-python",
   "name": "python",
   "nbconvert_exporter": "python",
   "pygments_lexer": "ipython3",
   "version": "3.8.8"
  }
 },
 "nbformat": 4,
 "nbformat_minor": 5
}
