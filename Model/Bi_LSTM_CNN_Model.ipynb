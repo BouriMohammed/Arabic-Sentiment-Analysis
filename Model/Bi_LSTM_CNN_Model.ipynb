{
 "cells": [
  {
   "cell_type": "markdown",
   "id": "aa4686a7",
   "metadata": {
    "id": "aa4686a7"
   },
   "source": [
    "## Hotel Arabic-Reviews Dataset"
   ]
  },
  {
   "cell_type": "markdown",
   "id": "80ee1e12",
   "metadata": {
    "id": "80ee1e12"
   },
   "source": [
    "Dans ce notebook, nous allons mettre en oeuvre une analyse générale de notre base de données en s'appuyant sur les axes suivants :\n",
    "\n",
    "* [I- Importer les bibliothèques importantes](#chapter1)\n",
    "* [II- Importer les données](#chapter2)\n",
    "* [III- Caractéristiques des données ](#chapter3)\n",
    "    * [1- Apercu des données](#section_3_1)\n",
    "    * [2- Le nombre de lignes et colonnes](#section_3_2)\n",
    "    * [3- Les valeurs manquantes](#section_3_3)\n",
    "    * [4- Les doublons](#section_3_4)\n",
    "    * [5- Le type des variables](#section_3_5)\n",
    "* [IV- Analyse de données](#chapter4)\n",
    "    * [1- La distribution des sentiments](#section_4_1)\n",
    "    * [2- La taille des commentaires](#section_4_2)\n",
    "\n",
    "Après avoir pris une idée générale sur les données ainsi que les variables, nous allons attaquer une approche qui se base sur le ***Deep Learning*** et plus précisément **`Bi_LSTM`** model en se basant sur les axes suivantes :\n",
    "\n",
    "\n",
    "* [V- Nettoyage de données](#chapter5)\n",
    "* [VI- Diviser les données](#chapter6)\n",
    "* [VII- Word2Vec](#chapter7)\n",
    "    * [1- Implementer FastText](#section_7_1)\n",
    "    * [2- Tokenisation](#section_7_2)\n",
    "    * [3- Padding](#section_7_3)\n",
    "    * [4- Construire Embedding_Matrix](#section_7_4)\n",
    "* [VIII- Modèles](#chapter8)\n",
    "* [IX- Evaluation](#chapter9)\n",
    "\n",
    "Le lien correspond au téléchargement des données : [Hotel Arabic-Reviews Dataset](https://github.com/elnagara/HARD-Arabic-Dataset) \n"
   ]
  },
  {
   "cell_type": "markdown",
   "id": "42faf1ea",
   "metadata": {
    "id": "42faf1ea"
   },
   "source": [
    "## I- Importer les bibliothèques importantes <a class=\"anchor\" id=\"chapter1\"></a>"
   ]
  },
  {
   "cell_type": "code",
   "execution_count": null,
   "id": "4918e61a",
   "metadata": {
    "id": "4918e61a"
   },
   "outputs": [],
   "source": [
    "'''Décommentez ceci pour installer ces bibliothèques \n",
    "\n",
    "!pip install gensim\n",
    "\n",
    "'''"
   ]
  },
  {
   "cell_type": "code",
   "execution_count": null,
   "id": "e4bb4bc2",
   "metadata": {},
   "outputs": [],
   "source": [
    "'''Si vous utilisez Google Colab, il faut passer toujours en premier par cette commande\n",
    "\n",
    "pip install gensim --upgrade\n",
    "\n",
    "'''"
   ]
  },
  {
   "cell_type": "code",
   "execution_count": 36,
   "id": "8f344c55",
   "metadata": {
    "executionInfo": {
     "elapsed": 350,
     "status": "ok",
     "timestamp": 1632242295301,
     "user": {
      "displayName": "Mohammed Bouri",
      "photoUrl": "https://lh3.googleusercontent.com/a/default-user=s64",
      "userId": "08732024649434974833"
     },
     "user_tz": -60
    },
    "id": "8f344c55"
   },
   "outputs": [],
   "source": [
    "import numpy as np\n",
    "import pandas as pd\n",
    "import time\n",
    "\n",
    "\n",
    "import matplotlib.pyplot as plt\n",
    "import seaborn as sns\n",
    "\n",
    "import re\n",
    "import string\n",
    "\n",
    "from sklearn.model_selection import train_test_split\n",
    "from sklearn.metrics import confusion_matrix, classification_report, accuracy_score\n",
    "\n",
    "import gensim\n",
    "from gensim.models import KeyedVectors\n",
    "\n",
    "from keras.preprocessing.text import Tokenizer\n",
    "from keras.preprocessing.sequence import pad_sequences\n",
    "\n",
    "import tensorflow as tf\n",
    "from keras.models import Sequential\n",
    "from tensorflow.keras.layers import SpatialDropout1D, Conv1D, Bidirectional, LSTM, Dense, Input, Dropout, GlobalMaxPooling1D\n",
    "from keras.layers.embeddings import Embedding\n",
    "from tensorflow.keras.callbacks import ModelCheckpoint, ReduceLROnPlateau, EarlyStopping\n",
    "from tensorflow.keras.optimizers import Adam\n",
    "\n",
    "import itertools\n",
    "from numpy import loadtxt\n",
    "from keras.models import load_model\n",
    "\n",
    "import warnings\n",
    "warnings.filterwarnings(\"ignore\")"
   ]
  },
  {
   "cell_type": "markdown",
   "id": "be528f80",
   "metadata": {
    "id": "be528f80"
   },
   "source": [
    "## II- Importer les données <a class=\"anchor\" id=\"chapter2\"></a>"
   ]
  },
  {
   "cell_type": "code",
   "execution_count": 3,
   "id": "5NFx8VV1JekL",
   "metadata": {
    "colab": {
     "base_uri": "https://localhost:8080/"
    },
    "executionInfo": {
     "elapsed": 18883,
     "status": "ok",
     "timestamp": 1632242162508,
     "user": {
      "displayName": "Mohammed Bouri",
      "photoUrl": "https://lh3.googleusercontent.com/a/default-user=s64",
      "userId": "08732024649434974833"
     },
     "user_tz": -60
    },
    "id": "5NFx8VV1JekL",
    "outputId": "72792109-4ca7-4666-bc52-3bd5fca5487a"
   },
   "outputs": [
    {
     "name": "stdout",
     "output_type": "stream",
     "text": [
      "Mounted at /content/gdrive\n"
     ]
    }
   ],
   "source": [
    "from google.colab import drive\n",
    "drive.mount(\"/content/gdrive\")"
   ]
  },
  {
   "cell_type": "code",
   "execution_count": 4,
   "id": "19b49fb4",
   "metadata": {
    "executionInfo": {
     "elapsed": 12051,
     "status": "ok",
     "timestamp": 1632242176250,
     "user": {
      "displayName": "Mohammed Bouri",
      "photoUrl": "https://lh3.googleusercontent.com/a/default-user=s64",
      "userId": "08732024649434974833"
     },
     "user_tz": -60
    },
    "id": "19b49fb4"
   },
   "outputs": [],
   "source": [
    "path_data = \"/content/gdrive/MyDrive/Colab Notebooks/HARD.xlsx\"\n",
    "\n",
    "HARD = pd.read_excel(path_data)"
   ]
  },
  {
   "cell_type": "markdown",
   "id": "66f13506",
   "metadata": {
    "id": "66f13506"
   },
   "source": [
    "## III- Caractéristiques des données <a class=\"anchor\" id=\"chapter3\"></a>"
   ]
  },
  {
   "cell_type": "markdown",
   "id": "a2606652",
   "metadata": {
    "id": "a2606652"
   },
   "source": [
    "Dans cette section, nous allons analyser les différentes caractéristiques des données tel que :\n",
    "\n",
    "- Apercu des données\n",
    "- Le nombre de lignes et colonnes\n",
    "- Les valeurs manquantes\n",
    "- Les doublons\n",
    "- Le type des variables"
   ]
  },
  {
   "cell_type": "code",
   "execution_count": 5,
   "id": "b9250521",
   "metadata": {
    "executionInfo": {
     "elapsed": 19,
     "status": "ok",
     "timestamp": 1632242176251,
     "user": {
      "displayName": "Mohammed Bouri",
      "photoUrl": "https://lh3.googleusercontent.com/a/default-user=s64",
      "userId": "08732024649434974833"
     },
     "user_tz": -60
    },
    "id": "b9250521"
   },
   "outputs": [],
   "source": [
    "data = HARD"
   ]
  },
  {
   "cell_type": "markdown",
   "id": "f6c4b54b",
   "metadata": {
    "id": "f6c4b54b"
   },
   "source": [
    "### 1- Apercu des données <a class=\"anchor\" id=\"section_3_1\"></a>"
   ]
  },
  {
   "cell_type": "code",
   "execution_count": 6,
   "id": "0bdedb27",
   "metadata": {
    "colab": {
     "base_uri": "https://localhost:8080/",
     "height": 0
    },
    "executionInfo": {
     "elapsed": 18,
     "status": "ok",
     "timestamp": 1632242176251,
     "user": {
      "displayName": "Mohammed Bouri",
      "photoUrl": "https://lh3.googleusercontent.com/a/default-user=s64",
      "userId": "08732024649434974833"
     },
     "user_tz": -60
    },
    "id": "0bdedb27",
    "outputId": "295a913c-ee05-4af0-dc2b-5acad9f1ec90"
   },
   "outputs": [
    {
     "data": {
      "text/html": [
       "<div>\n",
       "<style scoped>\n",
       "    .dataframe tbody tr th:only-of-type {\n",
       "        vertical-align: middle;\n",
       "    }\n",
       "\n",
       "    .dataframe tbody tr th {\n",
       "        vertical-align: top;\n",
       "    }\n",
       "\n",
       "    .dataframe thead th {\n",
       "        text-align: right;\n",
       "    }\n",
       "</style>\n",
       "<table border=\"1\" class=\"dataframe\">\n",
       "  <thead>\n",
       "    <tr style=\"text-align: right;\">\n",
       "      <th></th>\n",
       "      <th>no</th>\n",
       "      <th>Hotel name</th>\n",
       "      <th>rating</th>\n",
       "      <th>user type</th>\n",
       "      <th>room type</th>\n",
       "      <th>nights</th>\n",
       "      <th>review</th>\n",
       "    </tr>\n",
       "  </thead>\n",
       "  <tbody>\n",
       "    <tr>\n",
       "      <th>0</th>\n",
       "      <td>2</td>\n",
       "      <td>فندق 72</td>\n",
       "      <td>2</td>\n",
       "      <td>مسافر منفرد</td>\n",
       "      <td>غرفة ديلوكس مزدوجة أو توأم</td>\n",
       "      <td>أقمت ليلة واحدة</td>\n",
       "      <td>“ممتاز”. النظافة والطاقم متعاون.</td>\n",
       "    </tr>\n",
       "    <tr>\n",
       "      <th>1</th>\n",
       "      <td>3</td>\n",
       "      <td>فندق 72</td>\n",
       "      <td>5</td>\n",
       "      <td>زوج</td>\n",
       "      <td>غرفة ديلوكس مزدوجة أو توأم</td>\n",
       "      <td>أقمت ليلة واحدة</td>\n",
       "      <td>استثنائي. سهولة إنهاء المعاملة في الاستقبال. ل...</td>\n",
       "    </tr>\n",
       "    <tr>\n",
       "      <th>2</th>\n",
       "      <td>16</td>\n",
       "      <td>فندق 72</td>\n",
       "      <td>5</td>\n",
       "      <td>زوج</td>\n",
       "      <td>-</td>\n",
       "      <td>أقمت ليلتين</td>\n",
       "      <td>استثنائي. انصح بأختيار الاسويت و بالاخص غرفه ر...</td>\n",
       "    </tr>\n",
       "  </tbody>\n",
       "</table>\n",
       "</div>"
      ],
      "text/plain": [
       "   no  ...                                             review\n",
       "0   2  ...                  “ممتاز”. النظافة والطاقم متعاون. \n",
       "1   3  ...  استثنائي. سهولة إنهاء المعاملة في الاستقبال. ل...\n",
       "2  16  ...  استثنائي. انصح بأختيار الاسويت و بالاخص غرفه ر...\n",
       "\n",
       "[3 rows x 7 columns]"
      ]
     },
     "execution_count": 6,
     "metadata": {},
     "output_type": "execute_result"
    }
   ],
   "source": [
    "data.head(3)"
   ]
  },
  {
   "cell_type": "markdown",
   "id": "3daa1d27",
   "metadata": {
    "id": "3daa1d27"
   },
   "source": [
    "### 2- Le nombre de lignes et colonnes <a class=\"anchor\" id=\"section_3_2\"></a>"
   ]
  },
  {
   "cell_type": "code",
   "execution_count": 7,
   "id": "d5e1c90a",
   "metadata": {
    "colab": {
     "base_uri": "https://localhost:8080/"
    },
    "executionInfo": {
     "elapsed": 9,
     "status": "ok",
     "timestamp": 1632242176251,
     "user": {
      "displayName": "Mohammed Bouri",
      "photoUrl": "https://lh3.googleusercontent.com/a/default-user=s64",
      "userId": "08732024649434974833"
     },
     "user_tz": -60
    },
    "id": "d5e1c90a",
    "outputId": "4c7fdf8e-f0b5-4b35-e1af-f0367ab3cb1f"
   },
   "outputs": [
    {
     "name": "stdout",
     "output_type": "stream",
     "text": [
      "Data contient 105698 lignes et 7 colonnes.\n"
     ]
    }
   ],
   "source": [
    "print(\"Data contient {} lignes et {} colonnes.\".format(data.shape[0], data.shape[1]))"
   ]
  },
  {
   "cell_type": "markdown",
   "id": "545b402f",
   "metadata": {
    "id": "545b402f"
   },
   "source": [
    "|***Colonne :***  | no | Hotel name | <span style=\"color:red\">Rating</span> |  User type | Room type |  Night |  <span style=\"color:red\">Review</span> | \n",
    "|---|---|---|---|---|---|---|---|\n",
    "| |   |   |   | | | |  |"
   ]
  },
  {
   "cell_type": "markdown",
   "id": "0ae74c48",
   "metadata": {
    "id": "0ae74c48"
   },
   "source": [
    "### 3- Les valeurs manquantes <a class=\"anchor\" id=\"section_3_3\"></a>"
   ]
  },
  {
   "cell_type": "code",
   "execution_count": 8,
   "id": "b9c398e1",
   "metadata": {
    "colab": {
     "base_uri": "https://localhost:8080/"
    },
    "executionInfo": {
     "elapsed": 10,
     "status": "ok",
     "timestamp": 1632242176252,
     "user": {
      "displayName": "Mohammed Bouri",
      "photoUrl": "https://lh3.googleusercontent.com/a/default-user=s64",
      "userId": "08732024649434974833"
     },
     "user_tz": -60
    },
    "id": "b9c398e1",
    "outputId": "d98a1e28-7b22-4605-ff52-1b6d56bc8235"
   },
   "outputs": [
    {
     "data": {
      "text/plain": [
       "no            0\n",
       "Hotel name    0\n",
       "rating        0\n",
       "user type     0\n",
       "room type     0\n",
       "nights        0\n",
       "review        0\n",
       "dtype: int64"
      ]
     },
     "execution_count": 8,
     "metadata": {},
     "output_type": "execute_result"
    }
   ],
   "source": [
    "data.isnull().sum()"
   ]
  },
  {
   "cell_type": "markdown",
   "id": "83506b49",
   "metadata": {
    "id": "83506b49"
   },
   "source": [
    "### 4- Les doublons <a class=\"anchor\" id=\"section_3_4\"></a>"
   ]
  },
  {
   "cell_type": "code",
   "execution_count": 9,
   "id": "1b4187d1",
   "metadata": {
    "colab": {
     "base_uri": "https://localhost:8080/"
    },
    "executionInfo": {
     "elapsed": 551,
     "status": "ok",
     "timestamp": 1632242176794,
     "user": {
      "displayName": "Mohammed Bouri",
      "photoUrl": "https://lh3.googleusercontent.com/a/default-user=s64",
      "userId": "08732024649434974833"
     },
     "user_tz": -60
    },
    "id": "1b4187d1",
    "outputId": "c76bf213-b485-4a03-96a0-d12e411308f5"
   },
   "outputs": [
    {
     "name": "stdout",
     "output_type": "stream",
     "text": [
      "On a  0 doublons dans Data.\n"
     ]
    }
   ],
   "source": [
    "print(\"On a  {} doublons dans Data.\".format(data.duplicated().sum()))"
   ]
  },
  {
   "cell_type": "markdown",
   "id": "1bb9a141",
   "metadata": {
    "id": "1bb9a141"
   },
   "source": [
    "### 5- Le type des variables <a class=\"anchor\" id=\"section_3_5\"></a>"
   ]
  },
  {
   "cell_type": "code",
   "execution_count": 10,
   "id": "15243812",
   "metadata": {
    "colab": {
     "base_uri": "https://localhost:8080/"
    },
    "executionInfo": {
     "elapsed": 16,
     "status": "ok",
     "timestamp": 1632242176795,
     "user": {
      "displayName": "Mohammed Bouri",
      "photoUrl": "https://lh3.googleusercontent.com/a/default-user=s64",
      "userId": "08732024649434974833"
     },
     "user_tz": -60
    },
    "id": "15243812",
    "outputId": "e80cc217-714b-483f-fb12-b6c287fda403"
   },
   "outputs": [
    {
     "data": {
      "text/plain": [
       "no             int64\n",
       "Hotel name    object\n",
       "rating         int64\n",
       "user type     object\n",
       "room type     object\n",
       "nights        object\n",
       "review        object\n",
       "dtype: object"
      ]
     },
     "execution_count": 10,
     "metadata": {},
     "output_type": "execute_result"
    }
   ],
   "source": [
    "data.dtypes"
   ]
  },
  {
   "cell_type": "markdown",
   "id": "b1aee77d",
   "metadata": {
    "id": "b1aee77d"
   },
   "source": [
    "|***Colonne :***  | no | Hotel name | <span style=\"color:red\">Rating</span> |  User type | Room type |  Night |  <span style=\"color:red\">Review</span> | \n",
    "|---|---|---|---|---|---|---|---|\n",
    "|***Type :***  | int64 | Object | <span style=\"color:blue\">int64</span> | int64 |int64 | int64 |  <span style=\"color:blue\">Objet</span> | "
   ]
  },
  {
   "cell_type": "markdown",
   "id": "869d8544",
   "metadata": {
    "id": "869d8544"
   },
   "source": [
    "## IV- Analyse de données <a class=\"anchor\" id=\"chapter4\"></a>"
   ]
  },
  {
   "cell_type": "markdown",
   "id": "ad46f353",
   "metadata": {
    "id": "ad46f353"
   },
   "source": [
    "- Nous allons définir deux fonctions de visualisation pour simplifier la tâche dans les étapes suivantes."
   ]
  },
  {
   "cell_type": "code",
   "execution_count": 11,
   "id": "8819d3b8",
   "metadata": {
    "executionInfo": {
     "elapsed": 15,
     "status": "ok",
     "timestamp": 1632242176795,
     "user": {
      "displayName": "Mohammed Bouri",
      "photoUrl": "https://lh3.googleusercontent.com/a/default-user=s64",
      "userId": "08732024649434974833"
     },
     "user_tz": -60
    },
    "id": "8819d3b8"
   },
   "outputs": [],
   "source": [
    "def pie(data,col):\n",
    "    labels = data[col].value_counts().keys().tolist()\n",
    "    n = len(labels)\n",
    "    if n==2:\n",
    "        colors = ['#66b3ff', '#fb3999']\n",
    "    elif n==3:\n",
    "        colors = ['#66b3ff', '#fb3999', '#ffcc99']\n",
    "    elif n==4:\n",
    "        colors = ['#66b3ff', '#fb3999', '#ffcc99',\"#66f3ff\"]\n",
    "    elif n==5:\n",
    "        colors = ['#66b3ff', '#fb3999', '#ffcc99',\"#66f3ff\",'#adcc99']\n",
    "    elif n==6:\n",
    "        colors = ['#66b3ff', '#fb3999', '#ffcc99',\"#66f3ff\",'#adcc99',\"#db7f23\"]\n",
    "    \n",
    "    fig1, f1 = plt.subplots()\n",
    "    f1.pie(data[col].value_counts(), labels=labels, colors = colors, autopct='%1.1f%%',shadow=False, startangle=60) \n",
    "    f1.axis('equal')\n",
    "    plt.tight_layout()\n",
    "    plt.show()\n",
    "    \n",
    "def histo(data,col):\n",
    "    plt.figure(figsize = (10, 8))\n",
    "    sns.histplot(data=data, x=col, hue = data[col], fill=True)"
   ]
  },
  {
   "cell_type": "markdown",
   "id": "6540728a",
   "metadata": {
    "id": "6540728a"
   },
   "source": [
    "### 1- La distribution des sentiments <a class=\"anchor\" id=\"section_4_1\"></a>"
   ]
  },
  {
   "cell_type": "code",
   "execution_count": 12,
   "id": "6f24da11",
   "metadata": {
    "colab": {
     "base_uri": "https://localhost:8080/"
    },
    "executionInfo": {
     "elapsed": 15,
     "status": "ok",
     "timestamp": 1632242176796,
     "user": {
      "displayName": "Mohammed Bouri",
      "photoUrl": "https://lh3.googleusercontent.com/a/default-user=s64",
      "userId": "08732024649434974833"
     },
     "user_tz": -60
    },
    "id": "6f24da11",
    "outputId": "15b7fc09-722e-4ab8-8a6d-21c6bade2620",
    "scrolled": true
   },
   "outputs": [
    {
     "data": {
      "text/plain": [
       "2    0.363933\n",
       "4    0.250241\n",
       "5    0.249759\n",
       "1    0.136067\n",
       "Name: rating, dtype: float64"
      ]
     },
     "execution_count": 12,
     "metadata": {},
     "output_type": "execute_result"
    }
   ],
   "source": [
    "data.rating.value_counts(normalize = True)"
   ]
  },
  {
   "cell_type": "markdown",
   "id": "a5e3e648",
   "metadata": {
    "id": "a5e3e648"
   },
   "source": [
    "|  ***Valeurs :*** |  1 | 2 | 4  | 5  |\n",
    "|---|---|---|---|---|\n",
    "|  ***Pourcentage :*** | 13.6% | 36.4%  | 25%  | 25%  |"
   ]
  },
  {
   "cell_type": "code",
   "execution_count": 13,
   "id": "0e456c19",
   "metadata": {
    "colab": {
     "base_uri": "https://localhost:8080/",
     "height": 0
    },
    "executionInfo": {
     "elapsed": 14,
     "status": "ok",
     "timestamp": 1632242176796,
     "user": {
      "displayName": "Mohammed Bouri",
      "photoUrl": "https://lh3.googleusercontent.com/a/default-user=s64",
      "userId": "08732024649434974833"
     },
     "user_tz": -60
    },
    "id": "0e456c19",
    "outputId": "cb4290ae-6c67-4f95-c684-039bd64c5606"
   },
   "outputs": [
    {
     "data": {
      "image/png": "[encoded data removed]",
      "text/plain": [
       "<Figure size 432x288 with 1 Axes>"
      ]
     },
     "metadata": {},
     "output_type": "display_data"
    }
   ],
   "source": [
    "pie(data, \"rating\")"
   ]
  },
  {
   "cell_type": "markdown",
   "id": "f62acb67",
   "metadata": {
    "id": "f62acb67"
   },
   "source": [
    "***Commentaire :***\n",
    "\n",
    "- D'après les résultats obtenus, on peut conclure qu'on a ***une base de données équilibrée***."
   ]
  },
  {
   "cell_type": "markdown",
   "id": "63b79c3a",
   "metadata": {
    "id": "63b79c3a"
   },
   "source": [
    "Dans l'étape suivante, on va considérer que :\n",
    "\n",
    "- Les reviews qui ont une note de 1 et 2 sont ***des reviews négatives***.\n",
    "- Les reviews qui ont une note de 4 et 5 sont ***des reviews positives***.\n"
   ]
  },
  {
   "cell_type": "code",
   "execution_count": 14,
   "id": "fe01054c",
   "metadata": {
    "executionInfo": {
     "elapsed": 443,
     "status": "ok",
     "timestamp": 1632242177226,
     "user": {
      "displayName": "Mohammed Bouri",
      "photoUrl": "https://lh3.googleusercontent.com/a/default-user=s64",
      "userId": "08732024649434974833"
     },
     "user_tz": -60
    },
    "id": "fe01054c"
   },
   "outputs": [],
   "source": [
    "positive_reviews = data[data[\"rating\"] > 3]\n",
    "positive_reviews[\"sentiment\"] = 1\n",
    "\n",
    "negative_reviews = data[data[\"rating\"] < 3]\n",
    "negative_reviews[\"sentiment\"] = 0\n",
    "\n",
    "data = pd.concat([positive_reviews, negative_reviews], ignore_index = True)"
   ]
  },
  {
   "cell_type": "code",
   "execution_count": 15,
   "id": "468c2503",
   "metadata": {
    "colab": {
     "base_uri": "https://localhost:8080/"
    },
    "executionInfo": {
     "elapsed": 10,
     "status": "ok",
     "timestamp": 1632242177227,
     "user": {
      "displayName": "Mohammed Bouri",
      "photoUrl": "https://lh3.googleusercontent.com/a/default-user=s64",
      "userId": "08732024649434974833"
     },
     "user_tz": -60
    },
    "id": "468c2503",
    "outputId": "eb915693-3b28-489a-9954-4914fb344420"
   },
   "outputs": [
    {
     "name": "stdout",
     "output_type": "stream",
     "text": [
      "data contient 105698 lignes.\n",
      "Positive_reviews contient 52849 lignes.\n",
      "Negative_reviews contient 52849 lignes.\n"
     ]
    }
   ],
   "source": [
    "print(\"data contient {} lignes.\".format(data.shape[0]))\n",
    "\n",
    "print(\"Positive_reviews contient {} lignes.\".format(positive_reviews.shape[0]))\n",
    "\n",
    "print(\"Negative_reviews contient {} lignes.\".format(negative_reviews.shape[0]))"
   ]
  },
  {
   "cell_type": "code",
   "execution_count": 16,
   "id": "1ffd4a62",
   "metadata": {
    "colab": {
     "base_uri": "https://localhost:8080/",
     "height": 0
    },
    "executionInfo": {
     "elapsed": 10,
     "status": "ok",
     "timestamp": 1632242177227,
     "user": {
      "displayName": "Mohammed Bouri",
      "photoUrl": "https://lh3.googleusercontent.com/a/default-user=s64",
      "userId": "08732024649434974833"
     },
     "user_tz": -60
    },
    "id": "1ffd4a62",
    "outputId": "d08668f0-6102-4325-a30f-5a8214fc8f28"
   },
   "outputs": [
    {
     "data": {
      "image/png": "[encoded data removed]",
      "text/plain": [
       "<Figure size 432x288 with 1 Axes>"
      ]
     },
     "metadata": {},
     "output_type": "display_data"
    }
   ],
   "source": [
    "pie(data,\"sentiment\")"
   ]
  },
  {
   "cell_type": "code",
   "execution_count": 17,
   "id": "e5606c3c",
   "metadata": {
    "colab": {
     "base_uri": "https://localhost:8080/",
     "height": 0
    },
    "executionInfo": {
     "elapsed": 741,
     "status": "ok",
     "timestamp": 1632242177959,
     "user": {
      "displayName": "Mohammed Bouri",
      "photoUrl": "https://lh3.googleusercontent.com/a/default-user=s64",
      "userId": "08732024649434974833"
     },
     "user_tz": -60
    },
    "id": "e5606c3c",
    "outputId": "a6df96be-28be-478d-b4b5-83754c5c9026"
   },
   "outputs": [
    {
     "data": {
      "image/png": "[encoded data removed]",
      "text/plain": [
       "<Figure size 720x576 with 1 Axes>"
      ]
     },
     "metadata": {
      "needs_background": "light"
     },
     "output_type": "display_data"
    }
   ],
   "source": [
    "histo(data,\"sentiment\")"
   ]
  },
  {
   "cell_type": "markdown",
   "id": "5c8a640d",
   "metadata": {
    "id": "5c8a640d"
   },
   "source": [
    "### 2- La taille des commentaires <a class=\"anchor\" id=\"section_4_2\"></a>"
   ]
  },
  {
   "cell_type": "markdown",
   "id": "0273d8d9",
   "metadata": {
    "id": "0273d8d9"
   },
   "source": [
    "Dans le but d'avoir une idée générale sur le comportement des utilisateurs, la taille des commentaires peut nous donner un aperçu sur l'utilisation de la langue.\n",
    "\n",
    "Or, même pour l'étape de la vectorisation des données, cette partie va nous donner une idée sur la taille des vecteurs et même du vocabulaire."
   ]
  },
  {
   "cell_type": "code",
   "execution_count": 18,
   "id": "18a149c7",
   "metadata": {
    "executionInfo": {
     "elapsed": 491,
     "status": "ok",
     "timestamp": 1632242178448,
     "user": {
      "displayName": "Mohammed Bouri",
      "photoUrl": "https://lh3.googleusercontent.com/a/default-user=s64",
      "userId": "08732024649434974833"
     },
     "user_tz": -60
    },
    "id": "18a149c7"
   },
   "outputs": [],
   "source": [
    "def compte_mots(phrase):\n",
    "    return len(phrase.split())\n",
    "\n",
    "data[\"len_review\"] = data[\"review\"].apply(compte_mots)\n",
    "positive_reviews['len_review'] = positive_reviews[\"review\"].apply(compte_mots)\n",
    "negative_reviews['len_review'] = negative_reviews[\"review\"].apply(compte_mots)"
   ]
  },
  {
   "cell_type": "code",
   "execution_count": 19,
   "id": "5e65da2d",
   "metadata": {
    "colab": {
     "base_uri": "https://localhost:8080/"
    },
    "executionInfo": {
     "elapsed": 5,
     "status": "ok",
     "timestamp": 1632242178449,
     "user": {
      "displayName": "Mohammed Bouri",
      "photoUrl": "https://lh3.googleusercontent.com/a/default-user=s64",
      "userId": "08732024649434974833"
     },
     "user_tz": -60
    },
    "id": "5e65da2d",
    "outputId": "4b118d29-7ff2-415a-c7e1-720c304855a5"
   },
   "outputs": [
    {
     "name": "stdout",
     "output_type": "stream",
     "text": [
      "Le maximum de mots utilisé dans les reviews positives est : 570\n",
      "Le moyen de mots utilisé dans les reviews positives est : 19.829703494862724\n",
      "-------------------------------------------------------------------------------------------------------\n",
      "Le maximum de mots utilisé dans les reviews négatives est : 614\n",
      "Le moyen de mots utilisé dans les reviews négatives est : 28.094722700524134\n"
     ]
    }
   ],
   "source": [
    "print(\"Le maximum de mots utilisé dans les reviews positives est :\", max(positive_reviews.len_review))\n",
    "print(\"Le moyen de mots utilisé dans les reviews positives est :\", np.mean(positive_reviews.len_review))\n",
    "print(\"-------------------------------------------------------------------------------------------------------\")\n",
    "print(\"Le maximum de mots utilisé dans les reviews négatives est :\", max(negative_reviews.len_review))\n",
    "print(\"Le moyen de mots utilisé dans les reviews négatives est :\", np.mean(negative_reviews.len_review))"
   ]
  },
  {
   "cell_type": "code",
   "execution_count": 20,
   "id": "f3bf2532",
   "metadata": {
    "colab": {
     "base_uri": "https://localhost:8080/",
     "height": 0
    },
    "executionInfo": {
     "elapsed": 1284,
     "status": "ok",
     "timestamp": 1632242179729,
     "user": {
      "displayName": "Mohammed Bouri",
      "photoUrl": "https://lh3.googleusercontent.com/a/default-user=s64",
      "userId": "08732024649434974833"
     },
     "user_tz": -60
    },
    "id": "f3bf2532",
    "outputId": "01220270-a0bf-451f-f07f-112c75db93c3"
   },
   "outputs": [
    {
     "data": {
      "text/plain": [
       "(0.0, 200.0)"
      ]
     },
     "execution_count": 20,
     "metadata": {},
     "output_type": "execute_result"
    },
    {
     "data": {
      "image/png": "[encoded data removed]",
      "text/plain": [
       "<Figure size 720x648 with 1 Axes>"
      ]
     },
     "metadata": {
      "needs_background": "light"
     },
     "output_type": "display_data"
    }
   ],
   "source": [
    "plt.figure(figsize=(10,9))\n",
    "\n",
    "p1=sns.kdeplot(positive_reviews['len_review'], hue = data['sentiment'],  shade=True, color=\"r\")\n",
    "p1=sns.kdeplot(negative_reviews['len_review'], shade=True, color=\"b\")\n",
    "\n",
    "plt.xlim(0, 200)\n"
   ]
  },
  {
   "cell_type": "markdown",
   "id": "5dd692df",
   "metadata": {
    "id": "5dd692df"
   },
   "source": [
    "***Commentaire :***\n",
    "\n",
    "- On remarque qu'il y a le même comportement entre les utilisateurs."
   ]
  },
  {
   "cell_type": "markdown",
   "id": "2b6307c6",
   "metadata": {
    "id": "2b6307c6"
   },
   "source": [
    "***Remarque :***\n",
    "- Nous allons laisser que les colonnes qui nous interessent à savoir : \n",
    "    - **sentiment** \n",
    "    - **review**"
   ]
  },
  {
   "cell_type": "code",
   "execution_count": 21,
   "id": "ee81bce6",
   "metadata": {
    "colab": {
     "base_uri": "https://localhost:8080/",
     "height": 0
    },
    "executionInfo": {
     "elapsed": 372,
     "status": "ok",
     "timestamp": 1632242180097,
     "user": {
      "displayName": "Mohammed Bouri",
      "photoUrl": "https://lh3.googleusercontent.com/a/default-user=s64",
      "userId": "08732024649434974833"
     },
     "user_tz": -60
    },
    "id": "ee81bce6",
    "outputId": "630483b7-8de6-4ce5-d45f-5ca0d721e47b"
   },
   "outputs": [
    {
     "data": {
      "text/html": [
       "<div>\n",
       "<style scoped>\n",
       "    .dataframe tbody tr th:only-of-type {\n",
       "        vertical-align: middle;\n",
       "    }\n",
       "\n",
       "    .dataframe tbody tr th {\n",
       "        vertical-align: top;\n",
       "    }\n",
       "\n",
       "    .dataframe thead th {\n",
       "        text-align: right;\n",
       "    }\n",
       "</style>\n",
       "<table border=\"1\" class=\"dataframe\">\n",
       "  <thead>\n",
       "    <tr style=\"text-align: right;\">\n",
       "      <th></th>\n",
       "      <th>review</th>\n",
       "      <th>sentiment</th>\n",
       "      <th>len_review</th>\n",
       "    </tr>\n",
       "  </thead>\n",
       "  <tbody>\n",
       "    <tr>\n",
       "      <th>0</th>\n",
       "      <td>استثنائي. سهولة إنهاء المعاملة في الاستقبال. ل...</td>\n",
       "      <td>1</td>\n",
       "      <td>7</td>\n",
       "    </tr>\n",
       "    <tr>\n",
       "      <th>1</th>\n",
       "      <td>استثنائي. انصح بأختيار الاسويت و بالاخص غرفه ر...</td>\n",
       "      <td>1</td>\n",
       "      <td>11</td>\n",
       "    </tr>\n",
       "    <tr>\n",
       "      <th>2</th>\n",
       "      <td>جيد. المكان جميل وهاديء. كل شي جيد ونظيف بس كا...</td>\n",
       "      <td>1</td>\n",
       "      <td>23</td>\n",
       "    </tr>\n",
       "  </tbody>\n",
       "</table>\n",
       "</div>"
      ],
      "text/plain": [
       "                                              review  sentiment  len_review\n",
       "0  استثنائي. سهولة إنهاء المعاملة في الاستقبال. ل...          1           7\n",
       "1  استثنائي. انصح بأختيار الاسويت و بالاخص غرفه ر...          1          11\n",
       "2  جيد. المكان جميل وهاديء. كل شي جيد ونظيف بس كا...          1          23"
      ]
     },
     "execution_count": 21,
     "metadata": {},
     "output_type": "execute_result"
    }
   ],
   "source": [
    "data.drop(['no','Hotel name','rating','user type','room type','nights'], axis = 1, inplace = True)\n",
    "data.head(3)"
   ]
  },
  {
   "cell_type": "markdown",
   "id": "38800d22",
   "metadata": {
    "id": "38800d22"
   },
   "source": [
    "## V- Nettoyage de données <a class=\"anchor\" id=\"chapter5\"></a>"
   ]
  },
  {
   "cell_type": "markdown",
   "id": "dc43660c",
   "metadata": {
    "id": "dc43660c"
   },
   "source": [
    "Les textes de tweet se composent souvent de mentions d'autres utilisateurs, de textes de liens hypertextes, d'émoticônes et de ponctuations. \n",
    "\n",
    "Afin de les utiliser pour notre modèle. Nous ne pouvons pas autoriser ces textes pour la formation d'un modèle. \n",
    "\n",
    "Nous devons donc nettoyer les données textuelles en utilisant diverses méthodes de prétraitement et de nettoyage."
   ]
  },
  {
   "cell_type": "markdown",
   "id": "6fdb258d",
   "metadata": {
    "id": "6fdb258d"
   },
   "source": [
    "Pour ne pas perdre les données initiales, nous allons les stocker dans une nouvelle variable `df`."
   ]
  },
  {
   "cell_type": "code",
   "execution_count": 22,
   "id": "50321207",
   "metadata": {
    "executionInfo": {
     "elapsed": 7,
     "status": "ok",
     "timestamp": 1632242180098,
     "user": {
      "displayName": "Mohammed Bouri",
      "photoUrl": "https://lh3.googleusercontent.com/a/default-user=s64",
      "userId": "08732024649434974833"
     },
     "user_tz": -60
    },
    "id": "50321207"
   },
   "outputs": [],
   "source": [
    "df = data"
   ]
  },
  {
   "cell_type": "code",
   "execution_count": 23,
   "id": "5e3bbb1a",
   "metadata": {
    "executionInfo": {
     "elapsed": 6,
     "status": "ok",
     "timestamp": 1632242180098,
     "user": {
      "displayName": "Mohammed Bouri",
      "photoUrl": "https://lh3.googleusercontent.com/a/default-user=s64",
      "userId": "08732024649434974833"
     },
     "user_tz": -60
    },
    "id": "5e3bbb1a"
   },
   "outputs": [],
   "source": [
    "def preprocessing(x):\n",
    "    x = re.sub('@[^\\s]+', ' ', x)\n",
    "    x = re.sub('((www\\.[^\\s]+)|(https?://[^\\s]+))',' ',x)\n",
    "    \n",
    "    emoji_pattern = re.compile(\"[\"\n",
    "                               u\"\\U0001F600-\\U0001F64F\"  # emoticons\n",
    "                               u\"\\U0001F300-\\U0001F5FF\"  # symbols & pictographs\n",
    "                               u\"\\U0001F680-\\U0001F6FF\"  # transport & map symbols\n",
    "                               u\"\\U0001F1E0-\\U0001F1FF\"  # flags (iOS)\n",
    "                               u\"\\U00002500-\\U00002BEF\"  # chinese char\n",
    "                               u\"\\U00002702-\\U000027B0\"\n",
    "                               u\"\\U00002702-\\U000027B0\"\n",
    "                               u\"\\U000024C2-\\U0001F251\"\n",
    "                               u\"\\U0001f926-\\U0001f937\"\n",
    "                               u\"\\U00010000-\\U0010ffff\"\n",
    "                               u\"\\u2640-\\u2642\"\n",
    "                               u\"\\u2600-\\u2B55\"\n",
    "                               u\"\\u200d\"\n",
    "                               u\"\\u23cf\"\n",
    "                               u\"\\u23e9\"\n",
    "                               u\"\\u231a\"\n",
    "                               u\"\\ufe0f\"  # dingbats\n",
    "                               u\"\\u3030\"\"]+\", flags=re.UNICODE)\n",
    "    emoji_pattern.sub(r'', x)\n",
    "    \n",
    "    ar_punctuations = '''`÷×؛<>_()*&^%][ـ،/:\"؟.,'{}~¦+|!”…“–ـ#'''\n",
    "    en_punctuations = string.punctuation\n",
    "    punctuations = ar_punctuations + en_punctuations\n",
    "    x = x.translate(str.maketrans('', '', punctuations))\n",
    " \n",
    "    arabic_diacritics = re.compile(\"\"\" ّ    | # Tashdid\n",
    "                             َ    | # Fatha\n",
    "                             ً    | # Tanwin Fath\n",
    "                             ُ    | # Damma\n",
    "                             ٌ    | # Tanwin Damm\n",
    "                             ِ    | # Kasra\n",
    "                             ٍ    | # Tanwin Kasr\n",
    "                             ْ    | # Sukun\n",
    "                             ـ     # Tatwil/Kashida\n",
    "                         \"\"\", re.VERBOSE)\n",
    "    x = re.sub(arabic_diacritics, '', str(x)) \n",
    "    \n",
    "#     x = re.sub(\"[إأآا]\", \"ا\", x)\n",
    "#     x = re.sub(\"ى\", \"ي\", x)\n",
    "#     x = re.sub(\"ة\", \"ه\", x)\n",
    "#     x = re.sub(\"گ\", \"ك\", x)\n",
    "#     x = re.sub(r'(.)\\1+', r'\\1', x)\n",
    "    \n",
    "    return x"
   ]
  },
  {
   "cell_type": "code",
   "execution_count": 24,
   "id": "23a73fc0",
   "metadata": {
    "colab": {
     "base_uri": "https://localhost:8080/"
    },
    "executionInfo": {
     "elapsed": 3284,
     "status": "ok",
     "timestamp": 1632242183376,
     "user": {
      "displayName": "Mohammed Bouri",
      "photoUrl": "https://lh3.googleusercontent.com/a/default-user=s64",
      "userId": "08732024649434974833"
     },
     "user_tz": -60
    },
    "id": "23a73fc0",
    "outputId": "7576e400-e598-4f3a-c57a-1203b97d0900"
   },
   "outputs": [
    {
     "name": "stdout",
     "output_type": "stream",
     "text": [
      "CPU times: user 3.75 s, sys: 33.8 ms, total: 3.78 s\n",
      "Wall time: 3.8 s\n"
     ]
    }
   ],
   "source": [
    "%%time\n",
    "data[\"Clean_reviews\"] = data.review.apply(lambda x: preprocessing(x))"
   ]
  },
  {
   "cell_type": "code",
   "execution_count": 25,
   "id": "5a5a7546",
   "metadata": {
    "colab": {
     "base_uri": "https://localhost:8080/"
    },
    "executionInfo": {
     "elapsed": 9,
     "status": "ok",
     "timestamp": 1632242183377,
     "user": {
      "displayName": "Mohammed Bouri",
      "photoUrl": "https://lh3.googleusercontent.com/a/default-user=s64",
      "userId": "08732024649434974833"
     },
     "user_tz": -60
    },
    "id": "5a5a7546",
    "outputId": "16334044-48a0-4a12-d3f8-d5640636e332",
    "scrolled": true
   },
   "outputs": [
    {
     "name": "stdout",
     "output_type": "stream",
     "text": [
      "- Avant le prétraitement \n",
      "\n",
      " “جيدجداً”. الافطار جيد والسرير ممتاز ومريح واطلالة الغرفة رائعه. فرش ارضية الغرفه\n",
      "\n",
      "-----------------------------------------------\n",
      "\n",
      "- Après le prétraitement \n",
      "\n",
      " جيدجدا الافطار جيد والسرير ممتاز ومريح واطلالة الغرفة رائعه فرش ارضية الغرفه\n"
     ]
    }
   ],
   "source": [
    "print('- Avant le prétraitement \\n\\n',data[\"review\"][4])\n",
    "print(\"\\n-----------------------------------------------\\n\")\n",
    "print('- Après le prétraitement \\n\\n',data[\"Clean_reviews\"][4])"
   ]
  },
  {
   "cell_type": "markdown",
   "id": "7b2e77cc",
   "metadata": {
    "id": "7b2e77cc"
   },
   "source": [
    "***Remarque :***\n",
    "- Nous remarquons que les données sont bien prétraités et ils sont prêts pour les utiliser."
   ]
  },
  {
   "cell_type": "code",
   "execution_count": 26,
   "id": "6a0a8f03",
   "metadata": {
    "executionInfo": {
     "elapsed": 8,
     "status": "ok",
     "timestamp": 1632242183377,
     "user": {
      "displayName": "Mohammed Bouri",
      "photoUrl": "https://lh3.googleusercontent.com/a/default-user=s64",
      "userId": "08732024649434974833"
     },
     "user_tz": -60
    },
    "id": "6a0a8f03"
   },
   "outputs": [],
   "source": [
    "# data.to_csv(\"cleaned_data.csv\")"
   ]
  },
  {
   "cell_type": "markdown",
   "id": "fc7d1ad7",
   "metadata": {
    "id": "fc7d1ad7"
   },
   "source": [
    "## VI- Diviser les données <a class=\"anchor\" id=\"chapter6\"></a>"
   ]
  },
  {
   "cell_type": "markdown",
   "id": "9c2e8b87",
   "metadata": {
    "id": "9c2e8b87"
   },
   "source": [
    "- Le but de cette étape est de diviser les données en deux parties :\n",
    "    - La partie d'entrainement *(Train_Set)* : **80%**\n",
    "    - La partie du test *(Test_Set)* : **20%**\n",
    "\n",
    "$$\n",
    "105.698 * 80\\% = 84.558\n",
    "$$\n",
    "$$\n",
    "105.698 * 20\\% = 21.140\n",
    "$$\n",
    "\n",
    "***NB :***\n",
    "- Nous allons extraire une partie de *Validation* du *Train_Set*."
   ]
  },
  {
   "cell_type": "code",
   "execution_count": 52,
   "id": "ed14b393",
   "metadata": {
    "executionInfo": {
     "elapsed": 534,
     "status": "ok",
     "timestamp": 1632244125324,
     "user": {
      "displayName": "Mohammed Bouri",
      "photoUrl": "https://lh3.googleusercontent.com/a/default-user=s64",
      "userId": "08732024649434974833"
     },
     "user_tz": -60
    },
    "id": "ed14b393"
   },
   "outputs": [],
   "source": [
    "X = data.Clean_reviews\n",
    "y = data.sentiment"
   ]
  },
  {
   "cell_type": "code",
   "execution_count": 53,
   "id": "9ea946a2",
   "metadata": {
    "executionInfo": {
     "elapsed": 3,
     "status": "ok",
     "timestamp": 1632244125325,
     "user": {
      "displayName": "Mohammed Bouri",
      "photoUrl": "https://lh3.googleusercontent.com/a/default-user=s64",
      "userId": "08732024649434974833"
     },
     "user_tz": -60
    },
    "id": "9ea946a2"
   },
   "outputs": [],
   "source": [
    "X_train, X_test, y_train, y_test = train_test_split(X, \n",
    "                                                    y, \n",
    "                                                    test_size = 0.20, \n",
    "                                                    random_state = 42)"
   ]
  },
  {
   "cell_type": "code",
   "execution_count": 54,
   "id": "63dbe192",
   "metadata": {
    "colab": {
     "base_uri": "https://localhost:8080/"
    },
    "executionInfo": {
     "elapsed": 3,
     "status": "ok",
     "timestamp": 1632244125325,
     "user": {
      "displayName": "Mohammed Bouri",
      "photoUrl": "https://lh3.googleusercontent.com/a/default-user=s64",
      "userId": "08732024649434974833"
     },
     "user_tz": -60
    },
    "id": "63dbe192",
    "outputId": "24f56603-13d0-48df-badc-9a48cddb6717"
   },
   "outputs": [
    {
     "name": "stdout",
     "output_type": "stream",
     "text": [
      "Train set (84558,)\n",
      "Test set (21140,)\n"
     ]
    }
   ],
   "source": [
    "print('Train set', X_train.shape)\n",
    "print('Test set', X_test.shape)"
   ]
  },
  {
   "cell_type": "markdown",
   "id": "706d846a",
   "metadata": {
    "id": "706d846a"
   },
   "source": [
    "## VII- Word2Vec <a class=\"anchor\" id=\"chapter7\"></a>"
   ]
  },
  {
   "cell_type": "markdown",
   "id": "b42caa4d",
   "metadata": {
    "id": "b42caa4d"
   },
   "source": [
    "**Word Embeddings** sont essentiellement un moyen de convertir les mots en vecteurs de représentation. L'objectif est de pouvoir générer des vecteurs de représentation similaires ou proches pour des mots ayant une signification similaire.\n",
    "\n",
    "Alors pour satisfaire cela, nous allons adopter dans notre approche ***FastText***.\n",
    "\n",
    "Le lien correspond au téléchargement du Word Embeddings prétraité : [Aligned Vectors](https://fasttext.cc/docs/en/aligned-vectors.html) \n"
   ]
  },
  {
   "cell_type": "markdown",
   "id": "ba06bead",
   "metadata": {
    "id": "ba06bead"
   },
   "source": [
    "### 1- Implementer FastText <a class=\"anchor\" id=\"section_7_1\"></a>"
   ]
  },
  {
   "cell_type": "code",
   "execution_count": null,
   "id": "f52d8e49",
   "metadata": {
    "id": "f52d8e49",
    "outputId": "3b37cdb2-1cfb-4e41-98c4-f5aa7e7325cc"
   },
   "outputs": [
    {
     "name": "stdout",
     "output_type": "stream",
     "text": [
      "Wall time: 2min 18s\n"
     ]
    }
   ],
   "source": [
    "'''Décommentez ceci pour charger Word Embeddings pour la 1er fois\n",
    "\n",
    "%%time\n",
    "target_word_vec = KeyedVectors.load_word2vec_format(\"wiki.ar.align.vec.txt\", \n",
    "                                                    binary = False)\n",
    "target_word_vec.save('target_word_vec')\n",
    "\n",
    "'''"
   ]
  },
  {
   "cell_type": "code",
   "execution_count": 30,
   "id": "229b3d98",
   "metadata": {
    "colab": {
     "base_uri": "https://localhost:8080/"
    },
    "executionInfo": {
     "elapsed": 17379,
     "status": "ok",
     "timestamp": 1632242201239,
     "user": {
      "displayName": "Mohammed Bouri",
      "photoUrl": "https://lh3.googleusercontent.com/a/default-user=s64",
      "userId": "08732024649434974833"
     },
     "user_tz": -60
    },
    "id": "229b3d98",
    "outputId": "3b41832d-bee1-44d2-f5cb-dcaef512c26e"
   },
   "outputs": [
    {
     "name": "stdout",
     "output_type": "stream",
     "text": [
      "CPU times: user 387 ms, sys: 584 ms, total: 971 ms\n",
      "Wall time: 17.4 s\n"
     ]
    }
   ],
   "source": [
    "%%time\n",
    "target_word_vec = KeyedVectors.load(\"/content/gdrive/MyDrive/Colab Notebooks/target_word_vec\")"
   ]
  },
  {
   "cell_type": "markdown",
   "id": "d66f5e4d",
   "metadata": {
    "id": "d66f5e4d"
   },
   "source": [
    "### 2- Tokenisation  <a class=\"anchor\" id=\"section_7_2\"></a>"
   ]
  },
  {
   "cell_type": "markdown",
   "id": "9fc2a202",
   "metadata": {
    "id": "9fc2a202"
   },
   "source": [
    "A partir d'une séquence de caractères et d'une unité documentaire définie, la tokénisation consiste à la découper en morceaux, appelés tokens, en éliminant éventuellement certains caractères, comme la ponctuation. Ce processus est appelé ***tokenisation***."
   ]
  },
  {
   "cell_type": "code",
   "execution_count": 55,
   "id": "deeba689",
   "metadata": {
    "colab": {
     "base_uri": "https://localhost:8080/"
    },
    "executionInfo": {
     "elapsed": 3541,
     "status": "ok",
     "timestamp": 1632244128864,
     "user": {
      "displayName": "Mohammed Bouri",
      "photoUrl": "https://lh3.googleusercontent.com/a/default-user=s64",
      "userId": "08732024649434974833"
     },
     "user_tz": -60
    },
    "id": "deeba689",
    "outputId": "767bd543-cca9-44aa-bc79-d0c0d70b171d"
   },
   "outputs": [
    {
     "name": "stdout",
     "output_type": "stream",
     "text": [
      "CPU times: user 3.57 s, sys: 31 ms, total: 3.61 s\n",
      "Wall time: 3.61 s\n"
     ]
    }
   ],
   "source": [
    "%%time\n",
    "tokenizer = Tokenizer()\n",
    "tokenizer.fit_on_texts(X_train)"
   ]
  },
  {
   "cell_type": "code",
   "execution_count": 56,
   "id": "3a3ac172",
   "metadata": {
    "executionInfo": {
     "elapsed": 490,
     "status": "ok",
     "timestamp": 1632244129352,
     "user": {
      "displayName": "Mohammed Bouri",
      "photoUrl": "https://lh3.googleusercontent.com/a/default-user=s64",
      "userId": "08732024649434974833"
     },
     "user_tz": -60
    },
    "id": "3a3ac172"
   },
   "outputs": [],
   "source": [
    "word_index = tokenizer.word_index\n",
    "vocab_size = len(tokenizer.word_index) + 1"
   ]
  },
  {
   "cell_type": "markdown",
   "id": "43591daa",
   "metadata": {
    "id": "43591daa"
   },
   "source": [
    "### 3- Padding  <a class=\"anchor\" id=\"section_7_3\"></a>"
   ]
  },
  {
   "cell_type": "markdown",
   "id": "17067d80",
   "metadata": {
    "id": "17067d80"
   },
   "source": [
    "D'après l'analyse qui était faite au dessus, nous avons vu que le maximum de mots utilisé est environ de ***614***.\n",
    "\n",
    "Donc nous allons prendre `maxlen = 615`."
   ]
  },
  {
   "cell_type": "code",
   "execution_count": 57,
   "id": "72a1dcd9",
   "metadata": {
    "colab": {
     "base_uri": "https://localhost:8080/"
    },
    "executionInfo": {
     "elapsed": 4379,
     "status": "ok",
     "timestamp": 1632244133728,
     "user": {
      "displayName": "Mohammed Bouri",
      "photoUrl": "https://lh3.googleusercontent.com/a/default-user=s64",
      "userId": "08732024649434974833"
     },
     "user_tz": -60
    },
    "id": "72a1dcd9",
    "outputId": "24dfa25c-14bd-472f-c974-efe165032123"
   },
   "outputs": [
    {
     "name": "stdout",
     "output_type": "stream",
     "text": [
      "Training X Shape: (84558, 615)\n",
      "Testing X Shape: (21140, 615)\n",
      "CPU times: user 4.46 s, sys: 150 ms, total: 4.61 s\n",
      "Wall time: 4.52 s\n"
     ]
    }
   ],
   "source": [
    "%%time\n",
    "MAX_SEQUENCE_LENGTH = 615\n",
    "\n",
    "X_train = pad_sequences(tokenizer.texts_to_sequences(X_train),\n",
    "                        maxlen = MAX_SEQUENCE_LENGTH)\n",
    "X_test = pad_sequences(tokenizer.texts_to_sequences(X_test),\n",
    "                       maxlen = MAX_SEQUENCE_LENGTH)\n",
    "\n",
    "print(\"Training X Shape:\", X_train.shape)\n",
    "print(\"Testing X Shape:\", X_test.shape)"
   ]
  },
  {
   "cell_type": "markdown",
   "id": "112e5a3c",
   "metadata": {
    "id": "112e5a3c"
   },
   "source": [
    "### 4- Construire Embedding_Matrix  <a class=\"anchor\" id=\"section_7_4\"></a>"
   ]
  },
  {
   "cell_type": "code",
   "execution_count": 58,
   "id": "c242f82e",
   "metadata": {
    "colab": {
     "base_uri": "https://localhost:8080/"
    },
    "executionInfo": {
     "elapsed": 498,
     "status": "ok",
     "timestamp": 1632244134224,
     "user": {
      "displayName": "Mohammed Bouri",
      "photoUrl": "https://lh3.googleusercontent.com/a/default-user=s64",
      "userId": "08732024649434974833"
     },
     "user_tz": -60
    },
    "id": "c242f82e",
    "outputId": "6c7cf328-a22c-4325-c053-8d3334846d1e"
   },
   "outputs": [
    {
     "name": "stdout",
     "output_type": "stream",
     "text": [
      "CPU times: user 344 ms, sys: 161 ms, total: 505 ms\n",
      "Wall time: 499 ms\n"
     ]
    }
   ],
   "source": [
    "%%time\n",
    "embedding_matrix = np.zeros((vocab_size, 300))\n",
    "\n",
    "for word, i in word_index.items():\n",
    "    if word in target_word_vec :\n",
    "        embedding_vector = target_word_vec[word]\n",
    "        if embedding_vector is not None:\n",
    "            embedding_matrix[i] = embedding_vector"
   ]
  },
  {
   "cell_type": "code",
   "execution_count": 59,
   "id": "2d4fe85f",
   "metadata": {
    "colab": {
     "base_uri": "https://localhost:8080/"
    },
    "executionInfo": {
     "elapsed": 10,
     "status": "ok",
     "timestamp": 1632244134225,
     "user": {
      "displayName": "Mohammed Bouri",
      "photoUrl": "https://lh3.googleusercontent.com/a/default-user=s64",
      "userId": "08732024649434974833"
     },
     "user_tz": -60
    },
    "id": "2d4fe85f",
    "outputId": "3d7992e3-5795-44b8-9ad2-3a0b2da7d391"
   },
   "outputs": [
    {
     "data": {
      "text/plain": [
       "True"
      ]
     },
     "execution_count": 59,
     "metadata": {},
     "output_type": "execute_result"
    }
   ],
   "source": [
    "embedding_matrix.shape[0] == vocab_size"
   ]
  },
  {
   "cell_type": "markdown",
   "id": "94fa03ed",
   "metadata": {
    "id": "94fa03ed"
   },
   "source": [
    "## VIII- Modèles <a class=\"anchor\" id=\"chapter8\"></a>"
   ]
  },
  {
   "cell_type": "markdown",
   "id": "9c214e86",
   "metadata": {
    "id": "9c214e86"
   },
   "source": [
    "Nous sommes prêts maintenant à construire notre modèle de Deep Learning. Lors du développement d'un modèle Deep Learning, nous devons garder à l'esprit des éléments clés à savoir : \n",
    "- L'architecture du modèle\n",
    "- Le réglage de l'hyperparamètre\n",
    "- Les performances du modèle"
   ]
  },
  {
   "cell_type": "code",
   "execution_count": 60,
   "id": "9Q8dOwutLlyt",
   "metadata": {
    "colab": {
     "base_uri": "https://localhost:8080/"
    },
    "executionInfo": {
     "elapsed": 1000,
     "status": "ok",
     "timestamp": 1632244135216,
     "user": {
      "displayName": "Mohammed Bouri",
      "photoUrl": "https://lh3.googleusercontent.com/a/default-user=s64",
      "userId": "08732024649434974833"
     },
     "user_tz": -60
    },
    "id": "9Q8dOwutLlyt",
    "outputId": "c4476599-5a31-40b5-9dc5-e66eeeca6060"
   },
   "outputs": [
    {
     "name": "stdout",
     "output_type": "stream",
     "text": [
      "Model: \"sequential_4\"\n",
      "_________________________________________________________________\n",
      "Layer (type)                 Output Shape              Param #   \n",
      "=================================================================\n",
      "embedding_4 (Embedding)      (None, 615, 300)          39620400  \n",
      "_________________________________________________________________\n",
      "conv1d_3 (Conv1D)            (None, 614, 64)           38464     \n",
      "_________________________________________________________________\n",
      "bidirectional_3 (Bidirection (None, 614, 128)          66048     \n",
      "_________________________________________________________________\n",
      "global_max_pooling1d_3 (Glob (None, 128)               0         \n",
      "_________________________________________________________________\n",
      "dropout_2 (Dropout)          (None, 128)               0         \n",
      "_________________________________________________________________\n",
      "dense_2 (Dense)              (None, 1)                 129       \n",
      "=================================================================\n",
      "Total params: 39,725,041\n",
      "Trainable params: 104,641\n",
      "Non-trainable params: 39,620,400\n",
      "_________________________________________________________________\n",
      "None\n"
     ]
    }
   ],
   "source": [
    "model = Sequential()\n",
    "embedding_layer = Embedding(vocab_size, \n",
    "                            300, \n",
    "                            weights = [embedding_matrix], \n",
    "                            input_length = MAX_SEQUENCE_LENGTH, \n",
    "                            trainable=False)\n",
    "model.add(embedding_layer)\n",
    "model.add(Conv1D(filters=64, kernel_size=2, activation='relu'))\n",
    "model.add(Bidirectional(LSTM(64, dropout=0.2, return_sequences=True)))\n",
    "model.add(GlobalMaxPooling1D())\n",
    "model.add(Dropout(0.2))\n",
    "model.add(Dense(1, activation='sigmoid'))\n",
    "\n",
    "model.compile(optimizer = Adam(learning_rate=0.001), \n",
    "              loss = 'binary_crossentropy',\n",
    "              metrics = ['accuracy'])\n",
    "\n",
    "es = EarlyStopping(monitor='val_loss', mode='min', verbose=1, patience=5)\n",
    "print(model.summary())"
   ]
  },
  {
   "cell_type": "code",
   "execution_count": 61,
   "id": "zr24iAz6M-zO",
   "metadata": {
    "colab": {
     "base_uri": "https://localhost:8080/"
    },
    "executionInfo": {
     "elapsed": 861582,
     "status": "ok",
     "timestamp": 1632245001221,
     "user": {
      "displayName": "Mohammed Bouri",
      "photoUrl": "https://lh3.googleusercontent.com/a/default-user=s64",
      "userId": "08732024649434974833"
     },
     "user_tz": -60
    },
    "id": "zr24iAz6M-zO",
    "outputId": "9c7544fd-c86c-49dc-e402-9a0ff41681b7"
   },
   "outputs": [
    {
     "name": "stdout",
     "output_type": "stream",
     "text": [
      "Epoch 1/20\n",
      "71/71 [==============================] - 52s 681ms/step - loss: 0.4319 - accuracy: 0.8247 - val_loss: 0.2365 - val_accuracy: 0.9163\n",
      "Epoch 2/20\n",
      "71/71 [==============================] - 48s 671ms/step - loss: 0.2218 - accuracy: 0.9211 - val_loss: 0.1972 - val_accuracy: 0.9285\n",
      "Epoch 3/20\n",
      "71/71 [==============================] - 48s 671ms/step - loss: 0.1947 - accuracy: 0.9299 - val_loss: 0.1858 - val_accuracy: 0.9317\n",
      "Epoch 4/20\n",
      "71/71 [==============================] - 48s 672ms/step - loss: 0.1828 - accuracy: 0.9338 - val_loss: 0.1746 - val_accuracy: 0.9379\n",
      "Epoch 5/20\n",
      "71/71 [==============================] - 48s 671ms/step - loss: 0.1744 - accuracy: 0.9371 - val_loss: 0.1710 - val_accuracy: 0.9387\n",
      "Epoch 6/20\n",
      "71/71 [==============================] - 48s 673ms/step - loss: 0.1680 - accuracy: 0.9394 - val_loss: 0.1648 - val_accuracy: 0.9408\n",
      "Epoch 7/20\n",
      "71/71 [==============================] - 48s 673ms/step - loss: 0.1627 - accuracy: 0.9418 - val_loss: 0.1621 - val_accuracy: 0.9429\n",
      "Epoch 8/20\n",
      "71/71 [==============================] - 48s 672ms/step - loss: 0.1579 - accuracy: 0.9439 - val_loss: 0.1582 - val_accuracy: 0.9437\n",
      "Epoch 9/20\n",
      "71/71 [==============================] - 48s 673ms/step - loss: 0.1538 - accuracy: 0.9452 - val_loss: 0.1572 - val_accuracy: 0.9446\n",
      "Epoch 10/20\n",
      "71/71 [==============================] - 48s 672ms/step - loss: 0.1504 - accuracy: 0.9476 - val_loss: 0.1557 - val_accuracy: 0.9442\n",
      "Epoch 11/20\n",
      "71/71 [==============================] - 48s 672ms/step - loss: 0.1483 - accuracy: 0.9477 - val_loss: 0.1607 - val_accuracy: 0.9434\n",
      "Epoch 12/20\n",
      "71/71 [==============================] - 48s 672ms/step - loss: 0.1440 - accuracy: 0.9488 - val_loss: 0.1562 - val_accuracy: 0.9442\n",
      "Epoch 13/20\n",
      "71/71 [==============================] - 48s 670ms/step - loss: 0.1431 - accuracy: 0.9503 - val_loss: 0.1516 - val_accuracy: 0.9458\n",
      "Epoch 14/20\n",
      "71/71 [==============================] - 47s 669ms/step - loss: 0.2258 - accuracy: 0.9085 - val_loss: 0.1864 - val_accuracy: 0.9328\n",
      "Epoch 15/20\n",
      "71/71 [==============================] - 47s 670ms/step - loss: 0.1720 - accuracy: 0.9394 - val_loss: 0.1617 - val_accuracy: 0.9424\n",
      "Epoch 16/20\n",
      "71/71 [==============================] - 47s 669ms/step - loss: 0.1546 - accuracy: 0.9455 - val_loss: 0.1584 - val_accuracy: 0.9419\n",
      "Epoch 17/20\n",
      "71/71 [==============================] - 47s 667ms/step - loss: 0.1481 - accuracy: 0.9485 - val_loss: 0.1545 - val_accuracy: 0.9436\n",
      "Epoch 18/20\n",
      "71/71 [==============================] - 47s 668ms/step - loss: 0.1444 - accuracy: 0.9498 - val_loss: 0.1524 - val_accuracy: 0.9459\n",
      "Epoch 00018: early stopping\n"
     ]
    }
   ],
   "source": [
    "history = model.fit(X_train, y_train, validation_split=0.15, batch_size = 1024, epochs=20, verbose=1, callbacks=[es])"
   ]
  },
  {
   "cell_type": "markdown",
   "id": "35cae1d0",
   "metadata": {},
   "source": [
    "## IX- Evaluation <a class=\"anchor\" id=\"chapter9\"></a>"
   ]
  },
  {
   "cell_type": "code",
   "execution_count": 62,
   "id": "ytAqPHruQG8s",
   "metadata": {
    "colab": {
     "base_uri": "https://localhost:8080/"
    },
    "executionInfo": {
     "elapsed": 59483,
     "status": "ok",
     "timestamp": 1632245109039,
     "user": {
      "displayName": "Mohammed Bouri",
      "photoUrl": "https://lh3.googleusercontent.com/a/default-user=s64",
      "userId": "08732024649434974833"
     },
     "user_tz": -60
    },
    "id": "ytAqPHruQG8s",
    "outputId": "accabde0-95e6-4dd8-ed8d-0bff5833208c"
   },
   "outputs": [
    {
     "name": "stdout",
     "output_type": "stream",
     "text": [
      "661/661 [==============================] - 59s 89ms/step - loss: 0.1544 - accuracy: 0.9452\n",
      "accuracy: 94.52%\n"
     ]
    }
   ],
   "source": [
    "score = model.evaluate(X_test, y_test, verbose=1)\n",
    "print(\"%s: %.2f%%\" % (model.metrics_names[1], score[1]*100))"
   ]
  },
  {
   "cell_type": "code",
   "execution_count": 65,
   "id": "oh__KCXBZLJX",
   "metadata": {
    "executionInfo": {
     "elapsed": 349,
     "status": "ok",
     "timestamp": 1632245169661,
     "user": {
      "displayName": "Mohammed Bouri",
      "photoUrl": "https://lh3.googleusercontent.com/a/default-user=s64",
      "userId": "08732024649434974833"
     },
     "user_tz": -60
    },
    "id": "oh__KCXBZLJX"
   },
   "outputs": [],
   "source": [
    "def decode_sentiment(score):\n",
    "    return 1 if score>0.5 else 0"
   ]
  },
  {
   "cell_type": "code",
   "execution_count": 67,
   "id": "sw0uGMdeZLrP",
   "metadata": {
    "colab": {
     "base_uri": "https://localhost:8080/"
    },
    "executionInfo": {
     "elapsed": 56862,
     "status": "ok",
     "timestamp": 1632245287731,
     "user": {
      "displayName": "Mohammed Bouri",
      "photoUrl": "https://lh3.googleusercontent.com/a/default-user=s64",
      "userId": "08732024649434974833"
     },
     "user_tz": -60
    },
    "id": "sw0uGMdeZLrP",
    "outputId": "aaf961e0-15e4-48a5-fb92-359ab0821bba"
   },
   "outputs": [
    {
     "name": "stdout",
     "output_type": "stream",
     "text": [
      "661/661 [==============================] - 57s 85ms/step\n"
     ]
    }
   ],
   "source": [
    "scores = model.predict(X_test, verbose=1)\n",
    "\n",
    "y_pred = [decode_sentiment(x) for x in scores]"
   ]
  },
  {
   "cell_type": "code",
   "execution_count": 69,
   "id": "rMjeRi_9Zp9h",
   "metadata": {
    "colab": {
     "base_uri": "https://localhost:8080/"
    },
    "executionInfo": {
     "elapsed": 381,
     "status": "ok",
     "timestamp": 1632245313246,
     "user": {
      "displayName": "Mohammed Bouri",
      "photoUrl": "https://lh3.googleusercontent.com/a/default-user=s64",
      "userId": "08732024649434974833"
     },
     "user_tz": -60
    },
    "id": "rMjeRi_9Zp9h",
    "outputId": "b12c19e9-fdb4-4aa5-c6fd-a0bafa8f2fb7"
   },
   "outputs": [
    {
     "name": "stdout",
     "output_type": "stream",
     "text": [
      "              precision    recall  f1-score   support\n",
      "\n",
      "           0       0.96      0.93      0.94     10600\n",
      "           1       0.93      0.96      0.95     10540\n",
      "\n",
      "    accuracy                           0.95     21140\n",
      "   macro avg       0.95      0.95      0.95     21140\n",
      "weighted avg       0.95      0.95      0.95     21140\n",
      "\n"
     ]
    }
   ],
   "source": [
    "print(classification_report(y_test, y_pred))"
   ]
  },
  {
   "cell_type": "code",
   "execution_count": 71,
   "id": "AnjlB_VNaOqG",
   "metadata": {
    "executionInfo": {
     "elapsed": 379,
     "status": "ok",
     "timestamp": 1632245445682,
     "user": {
      "displayName": "Mohammed Bouri",
      "photoUrl": "https://lh3.googleusercontent.com/a/default-user=s64",
      "userId": "08732024649434974833"
     },
     "user_tz": -60
    },
    "id": "AnjlB_VNaOqG"
   },
   "outputs": [],
   "source": [
    "def plot_confusion_matrix(cm, classes,\n",
    "                          title='Confusion matrix',\n",
    "                          cmap=plt.cm.Blues):\n",
    "    \"\"\"\n",
    "    This function prints and plots the confusion matrix.\n",
    "    Normalization can be applied by setting `normalize=True`.\n",
    "    \"\"\"\n",
    "\n",
    "    cm = cm.astype('float') / cm.sum(axis=1)[:, np.newaxis]\n",
    "\n",
    "    plt.imshow(cm, interpolation='nearest', cmap=cmap)\n",
    "    plt.title(title, fontsize=20)\n",
    "    plt.colorbar()\n",
    "    tick_marks = np.arange(len(classes))\n",
    "    plt.xticks(tick_marks, classes, fontsize=13)\n",
    "    plt.yticks(tick_marks, classes, fontsize=13)\n",
    "\n",
    "    fmt = '.2f'\n",
    "    thresh = cm.max() / 2.\n",
    "    for i, j in itertools.product(range(cm.shape[0]), range(cm.shape[1])):\n",
    "        plt.text(j, i, format(cm[i, j], fmt),\n",
    "                 horizontalalignment=\"center\",\n",
    "                 color=\"white\" if cm[i, j] > thresh else \"black\")\n",
    "\n",
    "    plt.ylabel('True label', fontsize=17)\n",
    "    plt.xlabel('Predicted label', fontsize=17)"
   ]
  },
  {
   "cell_type": "code",
   "execution_count": 73,
   "id": "SugqsrP9aBs4",
   "metadata": {
    "colab": {
     "base_uri": "https://localhost:8080/",
     "height": 370
    },
    "executionInfo": {
     "elapsed": 447,
     "status": "ok",
     "timestamp": 1632245461039,
     "user": {
      "displayName": "Mohammed Bouri",
      "photoUrl": "https://lh3.googleusercontent.com/a/default-user=s64",
      "userId": "08732024649434974833"
     },
     "user_tz": -60
    },
    "id": "SugqsrP9aBs4",
    "outputId": "d93f11db-de1f-4a87-ae03-ca8dda8689e9"
   },
   "outputs": [
    {
     "data": {
      "image/png": "[encoded data removed]",
      "text/plain": [
       "<Figure size 432x432 with 2 Axes>"
      ]
     },
     "metadata": {
      "needs_background": "light"
     },
     "output_type": "display_data"
    }
   ],
   "source": [
    "cnf_matrix = confusion_matrix(y_test.to_list(), y_pred)\n",
    "plt.figure(figsize=(6,6))\n",
    "plot_confusion_matrix(cnf_matrix, classes=y_test.unique(), title=\"Confusion matrix\")\n",
    "plt.show()"
   ]
  },
  {
   "cell_type": "code",
   "execution_count": 64,
   "id": "oawbUEqWZE9H",
   "metadata": {
    "colab": {
     "base_uri": "https://localhost:8080/"
    },
    "executionInfo": {
     "elapsed": 847,
     "status": "ok",
     "timestamp": 1632245160255,
     "user": {
      "displayName": "Mohammed Bouri",
      "photoUrl": "https://lh3.googleusercontent.com/a/default-user=s64",
      "userId": "08732024649434974833"
     },
     "user_tz": -60
    },
    "id": "oawbUEqWZE9H",
    "outputId": "3a8ab060-f74e-4e6d-9f40-406648779ee5"
   },
   "outputs": [
    {
     "name": "stdout",
     "output_type": "stream",
     "text": [
      "Saved model to disk\n"
     ]
    }
   ],
   "source": [
    "model.save(\"/content/gdrive/MyDrive/Colab Notebooks/model.h5\")\n",
    "print(\"Saved model to disk\")"
   ]
  },
  {
   "cell_type": "markdown",
   "id": "Z0PhnOAEahj3",
   "metadata": {
    "id": "Z0PhnOAEahj3"
   },
   "source": [
    "## Reference\n",
    "\n",
    "- A Deep Learning Approach Combining CNN and Bi-LSTM with SVM Classifier for Arabic Sentiment Analysis "
   ]
  }
 ],
 "metadata": {
  "accelerator": "GPU",
  "colab": {
   "collapsed_sections": [
    "be528f80",
    "66f13506",
    "0ae74c48",
    "83506b49",
    "1bb9a141",
    "869d8544",
    "5c8a640d",
    "38800d22",
    "fc7d1ad7",
    "ba06bead",
    "d66f5e4d",
    "43591daa",
    "112e5a3c",
    "94fa03ed"
   ],
   "name": "Target_Language_DL_Model.ipynb",
   "provenance": []
  },
  "kernelspec": {
   "display_name": "Python 3",
   "language": "python",
   "name": "python3"
  },
  "language_info": {
   "codemirror_mode": {
    "name": "ipython",
    "version": 3
   },
   "file_extension": ".py",
   "mimetype": "text/x-python",
   "name": "python",
   "nbconvert_exporter": "python",
   "pygments_lexer": "ipython3",
   "version": "3.8.8"
  }
 },
 "nbformat": 4,
 "nbformat_minor": 5
}
