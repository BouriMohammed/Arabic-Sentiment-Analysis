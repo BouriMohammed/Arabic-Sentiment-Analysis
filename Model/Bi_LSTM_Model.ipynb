{
 "cells": [
  {
   "cell_type": "markdown",
   "source": [
    "## Sentiment140 dataset with 1.6 million tweets"
   ],
   "metadata": {
    "id": "0cf76fdb"
   }
  },
  {
   "cell_type": "markdown",
   "source": [
    "Dans ce notebook, nous allons mettre en oeuvre une analyse générale de notre base de données en s'appuyant sur les axes suivants :\r\n",
    "\r\n",
    "* [I- Importer les bibliothèques importantes](#chapter1)\r\n",
    "* [II- Importer les données](#chapter2)\r\n",
    "* [III- Caractéristiques des données ](#chapter3)\r\n",
    "    * [1- Apercu des données](#section_3_1)\r\n",
    "        * [1-1 Rennomer les colonnes](#section_3_1_1)\r\n",
    "    * [2- Le nombre de lignes et colonnes](#section_3_2)\r\n",
    "    * [3- Les valeurs manquantes](#section_3_3)\r\n",
    "    * [4- Les doublons](#section_3_4)\r\n",
    "    * [5- Le type des variables](#section_3_5)\r\n",
    "* [IV- Analyse de données](#chapter4)\r\n",
    "    * [1- La distribution des sentiments](#section_4_1)\r\n",
    "    * [2- La taille des commentaires](#section_4_2)\r\n",
    "\r\n",
    "Après avoir pris une idée générale sur les données ainsi que les variables, nous allons attaquer une approche qui se base sur le ***Deep Learning*** et plus précisément **`Bi_LSTM`** model en se basant sur les axes suivantes :\r\n",
    "\r\n",
    "* [V- Nettoyage de données](#chapter5)\r\n",
    "* [VI- Diviser les données](#chapter6)\r\n",
    "* [VII- Word2Vec](#chapter7)\r\n",
    "    * [1- Implementer FastText](#section_7_1)\r\n",
    "    * [2- Tokenisation](#section_7_2)\r\n",
    "    * [3- Padding](#section_7_3)\r\n",
    "    * [4- Construire Embedding_Matrix](#section_7_4)\r\n",
    "* [VIII- Modèles](#chapter8)\r\n",
    "* [IX- Evaluation](#chapter9)\r\n",
    "\r\n",
    "Le lien correspond au téléchargement des données : [Sentiment140 dataset with 1.6 million tweets](https://www.kaggle.com/kazanova/sentiment140) \r\n"
   ],
   "metadata": {
    "id": "bb9490d3"
   }
  },
  {
   "cell_type": "markdown",
   "source": [
    "## I- Importer les bibliothèques importantes <a class=\"anchor\" id=\"chapter1\"></a>"
   ],
   "metadata": {
    "id": "59104a9e"
   }
  },
  {
   "cell_type": "code",
   "execution_count": null,
   "source": [
    "'''Décommentez ceci pour installer ces bibliothèques \r\n",
    "\r\n",
    "!pip install gensim\r\n",
    "\r\n",
    "'''"
   ],
   "outputs": [],
   "metadata": {
    "id": "48e21932"
   }
  },
  {
   "cell_type": "code",
   "execution_count": 25,
   "source": [
    "import numpy as np\r\n",
    "import pandas as pd\r\n",
    "import time\r\n",
    "\r\n",
    "\r\n",
    "import matplotlib.pyplot as plt\r\n",
    "import seaborn as sns\r\n",
    "\r\n",
    "import re\r\n",
    "import string\r\n",
    "\r\n",
    "from sklearn.model_selection import train_test_split\r\n",
    "from sklearn.metrics import confusion_matrix, classification_report, accuracy_score\r\n",
    "\r\n",
    "import gensim\r\n",
    "from gensim.models import KeyedVectors\r\n",
    "\r\n",
    "from keras.preprocessing.text import Tokenizer\r\n",
    "from keras.preprocessing.sequence import pad_sequences\r\n",
    "\r\n",
    "import tensorflow as tf\r\n",
    "from keras.models import Sequential\r\n",
    "from tensorflow.keras.layers import SpatialDropout1D, Conv1D, Bidirectional, LSTM, Dense, Input, Dropout\r\n",
    "from keras.layers.embeddings import Embedding\r\n",
    "from tensorflow.keras.callbacks import ModelCheckpoint, ReduceLROnPlateau\r\n",
    "from tensorflow.keras.optimizers import Adam\r\n",
    "\r\n",
    "from numpy import loadtxt\r\n",
    "from keras.models import load_model\r\n",
    "\r\n",
    "import warnings\r\n",
    "warnings.filterwarnings(\"ignore\")"
   ],
   "outputs": [],
   "metadata": {
    "executionInfo": {
     "elapsed": 3954,
     "status": "ok",
     "timestamp": 1631894674056,
     "user": {
      "displayName": "Mohammed Bouri",
      "photoUrl": "https://lh3.googleusercontent.com/a-/AOh14GgsD5NIgXXj-zXbzyCtm7POociYhjAW2byfLAl-=s64",
      "userId": "01774390682454389279"
     },
     "user_tz": -60
    },
    "id": "b0c1f54e"
   }
  },
  {
   "cell_type": "markdown",
   "source": [
    "## II- Importer les données <a class=\"anchor\" id=\"chapter2\"></a>"
   ],
   "metadata": {
    "id": "9476cd47"
   }
  },
  {
   "cell_type": "code",
   "execution_count": 2,
   "source": [
    "from google.colab import drive\r\n",
    "drive.mount(\"/content/gdrive\")"
   ],
   "outputs": [
    {
     "output_type": "stream",
     "name": "stdout",
     "text": [
      "Mounted at /content/gdrive\n"
     ]
    }
   ],
   "metadata": {
    "colab": {
     "base_uri": "https://localhost:8080/"
    },
    "executionInfo": {
     "elapsed": 20278,
     "status": "ok",
     "timestamp": 1631894694331,
     "user": {
      "displayName": "Mohammed Bouri",
      "photoUrl": "https://lh3.googleusercontent.com/a-/AOh14GgsD5NIgXXj-zXbzyCtm7POociYhjAW2byfLAl-=s64",
      "userId": "01774390682454389279"
     },
     "user_tz": -60
    },
    "id": "SxPrYQS71Ts8",
    "outputId": "ef1b9d2f-3360-4b36-cd67-fa396f6e94a6"
   }
  },
  {
   "cell_type": "code",
   "execution_count": 4,
   "source": [
    "path = '/content/gdrive/MyDrive/Colab Notebooks/data_tweet.csv'"
   ],
   "outputs": [],
   "metadata": {
    "executionInfo": {
     "elapsed": 532,
     "status": "ok",
     "timestamp": 1631894704590,
     "user": {
      "displayName": "Mohammed Bouri",
      "photoUrl": "https://lh3.googleusercontent.com/a-/AOh14GgsD5NIgXXj-zXbzyCtm7POociYhjAW2byfLAl-=s64",
      "userId": "01774390682454389279"
     },
     "user_tz": -60
    },
    "id": "01c583aa"
   }
  },
  {
   "cell_type": "code",
   "execution_count": 5,
   "source": [
    "data = pd.read_csv(path, header = None, encoding='latin-1')"
   ],
   "outputs": [],
   "metadata": {
    "executionInfo": {
     "elapsed": 6060,
     "status": "ok",
     "timestamp": 1631894715924,
     "user": {
      "displayName": "Mohammed Bouri",
      "photoUrl": "https://lh3.googleusercontent.com/a-/AOh14GgsD5NIgXXj-zXbzyCtm7POociYhjAW2byfLAl-=s64",
      "userId": "01774390682454389279"
     },
     "user_tz": -60
    },
    "id": "e92e880d"
   }
  },
  {
   "cell_type": "markdown",
   "source": [
    "## III- Caractéristiques des données <a class=\"anchor\" id=\"chapter3\"></a>"
   ],
   "metadata": {
    "id": "18ba6390"
   }
  },
  {
   "cell_type": "markdown",
   "source": [
    "Dans cette section, nous allons analyser les différentes caractéristiques des données tel que :\n",
    "\n",
    "- Apercu des données\n",
    "- Le nombre de lignes et colonnes\n",
    "- Les valeurs manquantes\n",
    "- Les doublons\n",
    "- Le type des variables"
   ],
   "metadata": {
    "id": "5727882f"
   }
  },
  {
   "cell_type": "markdown",
   "source": [
    "### 1- Apercu des données <a class=\"anchor\" id=\"section_3_1\"></a>"
   ],
   "metadata": {
    "id": "d33d2c28"
   }
  },
  {
   "cell_type": "code",
   "execution_count": 6,
   "source": [
    "data.head(3)"
   ],
   "outputs": [
    {
     "output_type": "execute_result",
     "data": {
      "text/html": [
       "<div>\n",
       "<style scoped>\n",
       "    .dataframe tbody tr th:only-of-type {\n",
       "        vertical-align: middle;\n",
       "    }\n",
       "\n",
       "    .dataframe tbody tr th {\n",
       "        vertical-align: top;\n",
       "    }\n",
       "\n",
       "    .dataframe thead th {\n",
       "        text-align: right;\n",
       "    }\n",
       "</style>\n",
       "<table border=\"1\" class=\"dataframe\">\n",
       "  <thead>\n",
       "    <tr style=\"text-align: right;\">\n",
       "      <th></th>\n",
       "      <th>0</th>\n",
       "      <th>1</th>\n",
       "      <th>2</th>\n",
       "      <th>3</th>\n",
       "      <th>4</th>\n",
       "      <th>5</th>\n",
       "    </tr>\n",
       "  </thead>\n",
       "  <tbody>\n",
       "    <tr>\n",
       "      <th>0</th>\n",
       "      <td>0</td>\n",
       "      <td>1467810369</td>\n",
       "      <td>Mon Apr 06 22:19:45 PDT 2009</td>\n",
       "      <td>NO_QUERY</td>\n",
       "      <td>_TheSpecialOne_</td>\n",
       "      <td>@switchfoot http://twitpic.com/2y1zl - Awww, t...</td>\n",
       "    </tr>\n",
       "    <tr>\n",
       "      <th>1</th>\n",
       "      <td>0</td>\n",
       "      <td>1467810672</td>\n",
       "      <td>Mon Apr 06 22:19:49 PDT 2009</td>\n",
       "      <td>NO_QUERY</td>\n",
       "      <td>scotthamilton</td>\n",
       "      <td>is upset that he can't update his Facebook by ...</td>\n",
       "    </tr>\n",
       "    <tr>\n",
       "      <th>2</th>\n",
       "      <td>0</td>\n",
       "      <td>1467810917</td>\n",
       "      <td>Mon Apr 06 22:19:53 PDT 2009</td>\n",
       "      <td>NO_QUERY</td>\n",
       "      <td>mattycus</td>\n",
       "      <td>@Kenichan I dived many times for the ball. Man...</td>\n",
       "    </tr>\n",
       "  </tbody>\n",
       "</table>\n",
       "</div>"
      ],
      "text/plain": [
       "   0           1                             2         3                4  \\\n",
       "0  0  1467810369  Mon Apr 06 22:19:45 PDT 2009  NO_QUERY  _TheSpecialOne_   \n",
       "1  0  1467810672  Mon Apr 06 22:19:49 PDT 2009  NO_QUERY    scotthamilton   \n",
       "2  0  1467810917  Mon Apr 06 22:19:53 PDT 2009  NO_QUERY         mattycus   \n",
       "\n",
       "                                                   5  \n",
       "0  @switchfoot http://twitpic.com/2y1zl - Awww, t...  \n",
       "1  is upset that he can't update his Facebook by ...  \n",
       "2  @Kenichan I dived many times for the ball. Man...  "
      ]
     },
     "metadata": {},
     "execution_count": 6
    }
   ],
   "metadata": {
    "colab": {
     "base_uri": "https://localhost:8080/",
     "height": 0
    },
    "executionInfo": {
     "elapsed": 960,
     "status": "ok",
     "timestamp": 1631894719030,
     "user": {
      "displayName": "Mohammed Bouri",
      "photoUrl": "https://lh3.googleusercontent.com/a-/AOh14GgsD5NIgXXj-zXbzyCtm7POociYhjAW2byfLAl-=s64",
      "userId": "01774390682454389279"
     },
     "user_tz": -60
    },
    "id": "4fc3b19f",
    "outputId": "d7329596-8819-461a-fa36-10b162c0bd2f"
   }
  },
  {
   "cell_type": "markdown",
   "source": [
    "#### 1-1 Rennomer les colonnes <a class=\"anchor\" id=\"section_3_1_1\"></a>"
   ],
   "metadata": {
    "id": "54f5fd46"
   }
  },
  {
   "cell_type": "code",
   "execution_count": 7,
   "source": [
    "data.columns = [\"TARGET\", \"ids\", \"date\", \"flag\", \"user\", \"Review\"]\r\n",
    "data.head(3)"
   ],
   "outputs": [
    {
     "output_type": "execute_result",
     "data": {
      "text/html": [
       "<div>\n",
       "<style scoped>\n",
       "    .dataframe tbody tr th:only-of-type {\n",
       "        vertical-align: middle;\n",
       "    }\n",
       "\n",
       "    .dataframe tbody tr th {\n",
       "        vertical-align: top;\n",
       "    }\n",
       "\n",
       "    .dataframe thead th {\n",
       "        text-align: right;\n",
       "    }\n",
       "</style>\n",
       "<table border=\"1\" class=\"dataframe\">\n",
       "  <thead>\n",
       "    <tr style=\"text-align: right;\">\n",
       "      <th></th>\n",
       "      <th>TARGET</th>\n",
       "      <th>ids</th>\n",
       "      <th>date</th>\n",
       "      <th>flag</th>\n",
       "      <th>user</th>\n",
       "      <th>Review</th>\n",
       "    </tr>\n",
       "  </thead>\n",
       "  <tbody>\n",
       "    <tr>\n",
       "      <th>0</th>\n",
       "      <td>0</td>\n",
       "      <td>1467810369</td>\n",
       "      <td>Mon Apr 06 22:19:45 PDT 2009</td>\n",
       "      <td>NO_QUERY</td>\n",
       "      <td>_TheSpecialOne_</td>\n",
       "      <td>@switchfoot http://twitpic.com/2y1zl - Awww, t...</td>\n",
       "    </tr>\n",
       "    <tr>\n",
       "      <th>1</th>\n",
       "      <td>0</td>\n",
       "      <td>1467810672</td>\n",
       "      <td>Mon Apr 06 22:19:49 PDT 2009</td>\n",
       "      <td>NO_QUERY</td>\n",
       "      <td>scotthamilton</td>\n",
       "      <td>is upset that he can't update his Facebook by ...</td>\n",
       "    </tr>\n",
       "    <tr>\n",
       "      <th>2</th>\n",
       "      <td>0</td>\n",
       "      <td>1467810917</td>\n",
       "      <td>Mon Apr 06 22:19:53 PDT 2009</td>\n",
       "      <td>NO_QUERY</td>\n",
       "      <td>mattycus</td>\n",
       "      <td>@Kenichan I dived many times for the ball. Man...</td>\n",
       "    </tr>\n",
       "  </tbody>\n",
       "</table>\n",
       "</div>"
      ],
      "text/plain": [
       "   TARGET         ids                          date      flag  \\\n",
       "0       0  1467810369  Mon Apr 06 22:19:45 PDT 2009  NO_QUERY   \n",
       "1       0  1467810672  Mon Apr 06 22:19:49 PDT 2009  NO_QUERY   \n",
       "2       0  1467810917  Mon Apr 06 22:19:53 PDT 2009  NO_QUERY   \n",
       "\n",
       "              user                                             Review  \n",
       "0  _TheSpecialOne_  @switchfoot http://twitpic.com/2y1zl - Awww, t...  \n",
       "1    scotthamilton  is upset that he can't update his Facebook by ...  \n",
       "2         mattycus  @Kenichan I dived many times for the ball. Man...  "
      ]
     },
     "metadata": {},
     "execution_count": 7
    }
   ],
   "metadata": {
    "colab": {
     "base_uri": "https://localhost:8080/",
     "height": 0
    },
    "executionInfo": {
     "elapsed": 15,
     "status": "ok",
     "timestamp": 1631894719031,
     "user": {
      "displayName": "Mohammed Bouri",
      "photoUrl": "https://lh3.googleusercontent.com/a-/AOh14GgsD5NIgXXj-zXbzyCtm7POociYhjAW2byfLAl-=s64",
      "userId": "01774390682454389279"
     },
     "user_tz": -60
    },
    "id": "00d3a2fe",
    "outputId": "d636d26b-dbd9-40e0-e331-2e6df077da52"
   }
  },
  {
   "cell_type": "markdown",
   "source": [
    "### 2- Le nombre de lignes et colonnes <a class=\"anchor\" id=\"section_3_2\"></a>"
   ],
   "metadata": {
    "id": "80b1f2ae"
   }
  },
  {
   "cell_type": "code",
   "execution_count": 8,
   "source": [
    "print(\"Data contient {} lignes et {} colonnes.\".format(data.shape[0], data.shape[1]))"
   ],
   "outputs": [
    {
     "output_type": "stream",
     "name": "stdout",
     "text": [
      "Data contient 1600000 lignes et 6 colonnes.\n"
     ]
    }
   ],
   "metadata": {
    "colab": {
     "base_uri": "https://localhost:8080/"
    },
    "executionInfo": {
     "elapsed": 14,
     "status": "ok",
     "timestamp": 1631894719031,
     "user": {
      "displayName": "Mohammed Bouri",
      "photoUrl": "https://lh3.googleusercontent.com/a-/AOh14GgsD5NIgXXj-zXbzyCtm7POociYhjAW2byfLAl-=s64",
      "userId": "01774390682454389279"
     },
     "user_tz": -60
    },
    "id": "da2fc021",
    "outputId": "44faaa87-1a36-46e1-c074-e34dff3dfa2b"
   }
  },
  {
   "cell_type": "markdown",
   "source": [
    "|***Colonne :***  |  <span style=\"color:red\">TARGET</span> | ids | date | flage | user | <span style=\"color:blue\">Review</span> |  \n",
    "|---|---|---|---|---|---|---|\n",
    "| |   |   |   | | | |  "
   ],
   "metadata": {
    "id": "b18d024d"
   }
  },
  {
   "cell_type": "markdown",
   "source": [
    "### 3- Les valeurs manquantes <a class=\"anchor\" id=\"section_3_3\"></a>"
   ],
   "metadata": {
    "id": "b11464a8"
   }
  },
  {
   "cell_type": "code",
   "execution_count": 8,
   "source": [
    "data.isnull().sum()"
   ],
   "outputs": [
    {
     "output_type": "execute_result",
     "data": {
      "text/plain": [
       "TARGET    0\n",
       "ids       0\n",
       "date      0\n",
       "flag      0\n",
       "user      0\n",
       "Review    0\n",
       "dtype: int64"
      ]
     },
     "metadata": {},
     "execution_count": 8
    }
   ],
   "metadata": {
    "colab": {
     "base_uri": "https://localhost:8080/"
    },
    "executionInfo": {
     "elapsed": 14,
     "status": "ok",
     "timestamp": 1631894719031,
     "user": {
      "displayName": "Mohammed Bouri",
      "photoUrl": "https://lh3.googleusercontent.com/a-/AOh14GgsD5NIgXXj-zXbzyCtm7POociYhjAW2byfLAl-=s64",
      "userId": "01774390682454389279"
     },
     "user_tz": -60
    },
    "id": "c2c8a510",
    "outputId": "cbf90770-5017-4ad8-dd85-303d1a5ec4b7"
   }
  },
  {
   "cell_type": "markdown",
   "source": [
    "### 4- Les doublons <a class=\"anchor\" id=\"section_3_4\"></a>"
   ],
   "metadata": {
    "id": "909e9f91"
   }
  },
  {
   "cell_type": "code",
   "execution_count": 9,
   "source": [
    "print(\"Nous avons  {} doublons dans Data.\".format(data.duplicated().sum()))"
   ],
   "outputs": [
    {
     "output_type": "stream",
     "name": "stdout",
     "text": [
      "Nous avons  0 doublons dans Data.\n"
     ]
    }
   ],
   "metadata": {
    "colab": {
     "base_uri": "https://localhost:8080/"
    },
    "executionInfo": {
     "elapsed": 2180,
     "status": "ok",
     "timestamp": 1631894721198,
     "user": {
      "displayName": "Mohammed Bouri",
      "photoUrl": "https://lh3.googleusercontent.com/a-/AOh14GgsD5NIgXXj-zXbzyCtm7POociYhjAW2byfLAl-=s64",
      "userId": "01774390682454389279"
     },
     "user_tz": -60
    },
    "id": "09642936",
    "outputId": "2ed53ea6-b457-4a72-d83f-a957a578a272"
   }
  },
  {
   "cell_type": "markdown",
   "source": [
    "***Remarque :***\n",
    "- Nous allons laisser que les colonnes qui nous interessent à savoir : \n",
    "    - **TARGET** \n",
    "    - **Review**"
   ],
   "metadata": {
    "id": "f9657238"
   }
  },
  {
   "cell_type": "code",
   "execution_count": 9,
   "source": [
    "data.drop(['ids','date','flag','user'], axis = 1, inplace = True)"
   ],
   "outputs": [],
   "metadata": {
    "executionInfo": {
     "elapsed": 10,
     "status": "ok",
     "timestamp": 1631894721198,
     "user": {
      "displayName": "Mohammed Bouri",
      "photoUrl": "https://lh3.googleusercontent.com/a-/AOh14GgsD5NIgXXj-zXbzyCtm7POociYhjAW2byfLAl-=s64",
      "userId": "01774390682454389279"
     },
     "user_tz": -60
    },
    "id": "03f35c53"
   }
  },
  {
   "cell_type": "code",
   "execution_count": 10,
   "source": [
    "data.head(3)"
   ],
   "outputs": [
    {
     "output_type": "execute_result",
     "data": {
      "text/html": [
       "<div>\n",
       "<style scoped>\n",
       "    .dataframe tbody tr th:only-of-type {\n",
       "        vertical-align: middle;\n",
       "    }\n",
       "\n",
       "    .dataframe tbody tr th {\n",
       "        vertical-align: top;\n",
       "    }\n",
       "\n",
       "    .dataframe thead th {\n",
       "        text-align: right;\n",
       "    }\n",
       "</style>\n",
       "<table border=\"1\" class=\"dataframe\">\n",
       "  <thead>\n",
       "    <tr style=\"text-align: right;\">\n",
       "      <th></th>\n",
       "      <th>TARGET</th>\n",
       "      <th>Review</th>\n",
       "    </tr>\n",
       "  </thead>\n",
       "  <tbody>\n",
       "    <tr>\n",
       "      <th>0</th>\n",
       "      <td>0</td>\n",
       "      <td>@switchfoot http://twitpic.com/2y1zl - Awww, t...</td>\n",
       "    </tr>\n",
       "    <tr>\n",
       "      <th>1</th>\n",
       "      <td>0</td>\n",
       "      <td>is upset that he can't update his Facebook by ...</td>\n",
       "    </tr>\n",
       "    <tr>\n",
       "      <th>2</th>\n",
       "      <td>0</td>\n",
       "      <td>@Kenichan I dived many times for the ball. Man...</td>\n",
       "    </tr>\n",
       "  </tbody>\n",
       "</table>\n",
       "</div>"
      ],
      "text/plain": [
       "   TARGET                                             Review\n",
       "0       0  @switchfoot http://twitpic.com/2y1zl - Awww, t...\n",
       "1       0  is upset that he can't update his Facebook by ...\n",
       "2       0  @Kenichan I dived many times for the ball. Man..."
      ]
     },
     "metadata": {},
     "execution_count": 10
    }
   ],
   "metadata": {
    "colab": {
     "base_uri": "https://localhost:8080/",
     "height": 0
    },
    "executionInfo": {
     "elapsed": 10,
     "status": "ok",
     "timestamp": 1631894721199,
     "user": {
      "displayName": "Mohammed Bouri",
      "photoUrl": "https://lh3.googleusercontent.com/a-/AOh14GgsD5NIgXXj-zXbzyCtm7POociYhjAW2byfLAl-=s64",
      "userId": "01774390682454389279"
     },
     "user_tz": -60
    },
    "id": "2f9f8915",
    "outputId": "804504be-4048-424d-b3fa-44723e2051e7"
   }
  },
  {
   "cell_type": "markdown",
   "source": [
    "***NB :***\n",
    "- Dans le but de simplifier l'analyse de nos données, nous allons ajouter une nouvelle colonne \" *Sentiment* \" qui contient :\n",
    "    - **0** si **TARGET = 0**\n",
    "    - **1** si **TARGET = 4**"
   ],
   "metadata": {
    "id": "6a5eba2e"
   }
  },
  {
   "cell_type": "code",
   "execution_count": 11,
   "source": [
    "lab_to_sentiment = {0:0, 4:1}\n",
    "\n",
    "def label_decoder(label):\n",
    "    return lab_to_sentiment[label]\n",
    "\n",
    "data[\"sentiment\"] = data.TARGET.apply(lambda x: label_decoder(x))"
   ],
   "outputs": [],
   "metadata": {
    "executionInfo": {
     "elapsed": 1686,
     "status": "ok",
     "timestamp": 1631894722876,
     "user": {
      "displayName": "Mohammed Bouri",
      "photoUrl": "https://lh3.googleusercontent.com/a-/AOh14GgsD5NIgXXj-zXbzyCtm7POociYhjAW2byfLAl-=s64",
      "userId": "01774390682454389279"
     },
     "user_tz": -60
    },
    "id": "0e1447b7"
   }
  },
  {
   "cell_type": "code",
   "execution_count": 12,
   "source": [
    "data.head(3)"
   ],
   "outputs": [
    {
     "output_type": "execute_result",
     "data": {
      "text/html": [
       "<div>\n",
       "<style scoped>\n",
       "    .dataframe tbody tr th:only-of-type {\n",
       "        vertical-align: middle;\n",
       "    }\n",
       "\n",
       "    .dataframe tbody tr th {\n",
       "        vertical-align: top;\n",
       "    }\n",
       "\n",
       "    .dataframe thead th {\n",
       "        text-align: right;\n",
       "    }\n",
       "</style>\n",
       "<table border=\"1\" class=\"dataframe\">\n",
       "  <thead>\n",
       "    <tr style=\"text-align: right;\">\n",
       "      <th></th>\n",
       "      <th>TARGET</th>\n",
       "      <th>Review</th>\n",
       "      <th>sentiment</th>\n",
       "    </tr>\n",
       "  </thead>\n",
       "  <tbody>\n",
       "    <tr>\n",
       "      <th>0</th>\n",
       "      <td>0</td>\n",
       "      <td>@switchfoot http://twitpic.com/2y1zl - Awww, t...</td>\n",
       "      <td>0</td>\n",
       "    </tr>\n",
       "    <tr>\n",
       "      <th>1</th>\n",
       "      <td>0</td>\n",
       "      <td>is upset that he can't update his Facebook by ...</td>\n",
       "      <td>0</td>\n",
       "    </tr>\n",
       "    <tr>\n",
       "      <th>2</th>\n",
       "      <td>0</td>\n",
       "      <td>@Kenichan I dived many times for the ball. Man...</td>\n",
       "      <td>0</td>\n",
       "    </tr>\n",
       "  </tbody>\n",
       "</table>\n",
       "</div>"
      ],
      "text/plain": [
       "   TARGET                                             Review  sentiment\n",
       "0       0  @switchfoot http://twitpic.com/2y1zl - Awww, t...          0\n",
       "1       0  is upset that he can't update his Facebook by ...          0\n",
       "2       0  @Kenichan I dived many times for the ball. Man...          0"
      ]
     },
     "metadata": {},
     "execution_count": 12
    }
   ],
   "metadata": {
    "colab": {
     "base_uri": "https://localhost:8080/",
     "height": 0
    },
    "executionInfo": {
     "elapsed": 17,
     "status": "ok",
     "timestamp": 1631894722877,
     "user": {
      "displayName": "Mohammed Bouri",
      "photoUrl": "https://lh3.googleusercontent.com/a-/AOh14GgsD5NIgXXj-zXbzyCtm7POociYhjAW2byfLAl-=s64",
      "userId": "01774390682454389279"
     },
     "user_tz": -60
    },
    "id": "79cc48d1",
    "outputId": "fa8788c1-470c-4d98-ffad-867ffbcfd6d8"
   }
  },
  {
   "cell_type": "code",
   "execution_count": 14,
   "source": [
    "print(data.TARGET.value_counts(),'\\n\\n',data.sentiment.value_counts())"
   ],
   "outputs": [
    {
     "output_type": "stream",
     "name": "stdout",
     "text": [
      "4    800000\n",
      "0    800000\n",
      "Name: TARGET, dtype: int64 \n",
      "\n",
      " 1    800000\n",
      "0    800000\n",
      "Name: sentiment, dtype: int64\n"
     ]
    }
   ],
   "metadata": {
    "colab": {
     "base_uri": "https://localhost:8080/"
    },
    "executionInfo": {
     "elapsed": 15,
     "status": "ok",
     "timestamp": 1631894722877,
     "user": {
      "displayName": "Mohammed Bouri",
      "photoUrl": "https://lh3.googleusercontent.com/a-/AOh14GgsD5NIgXXj-zXbzyCtm7POociYhjAW2byfLAl-=s64",
      "userId": "01774390682454389279"
     },
     "user_tz": -60
    },
    "id": "ab5ca9a6",
    "outputId": "e269a698-b0d3-4bc8-b944-c444d063e996"
   }
  },
  {
   "cell_type": "markdown",
   "source": [
    "## IV- Analyse de données <a class=\"anchor\" id=\"chapter4\"></a>"
   ],
   "metadata": {
    "id": "afb70db2"
   }
  },
  {
   "cell_type": "markdown",
   "source": [
    "- Nous allons définir deux fonctions de visualisation pour simplifier la tâche dans les étapes suivantes."
   ],
   "metadata": {
    "id": "1eda08a6"
   }
  },
  {
   "cell_type": "code",
   "execution_count": 15,
   "source": [
    "def pie(data,col):\n",
    "    labels = data[col].value_counts().keys().tolist()\n",
    "    n = len(labels)\n",
    "    if n==2:\n",
    "        colors = ['#66b3ff', '#fb3999']\n",
    "    elif n==3:\n",
    "        colors = ['#66b3ff', '#fb3999', '#ffcc99']\n",
    "    elif n==4:\n",
    "        colors = ['#66b3ff', '#fb3999', '#ffcc99',\"#66f3ff\"]\n",
    "    elif n==5:\n",
    "        colors = ['#66b3ff', '#fb3999', '#ffcc99',\"#66f3ff\",'#adcc99']\n",
    "    elif n==6:\n",
    "        colors = ['#66b3ff', '#fb3999', '#ffcc99',\"#66f3ff\",'#adcc99',\"#db7f23\"]\n",
    "    \n",
    "    fig1, f1 = plt.subplots()\n",
    "    f1.pie(data[col].value_counts(), labels=labels, colors = colors, autopct='%1.1f%%',shadow=False, startangle=60) \n",
    "    f1.axis('equal')\n",
    "    plt.tight_layout()\n",
    "    plt.show()\n",
    "    \n",
    "def histo(data,col):\n",
    "    plt.figure(figsize = (10, 8))\n",
    "    sns.histplot(data=data, x=col, hue = data[col], fill=True)"
   ],
   "outputs": [],
   "metadata": {
    "executionInfo": {
     "elapsed": 15,
     "status": "ok",
     "timestamp": 1631894722878,
     "user": {
      "displayName": "Mohammed Bouri",
      "photoUrl": "https://lh3.googleusercontent.com/a-/AOh14GgsD5NIgXXj-zXbzyCtm7POociYhjAW2byfLAl-=s64",
      "userId": "01774390682454389279"
     },
     "user_tz": -60
    },
    "id": "f508f7b0"
   }
  },
  {
   "cell_type": "markdown",
   "source": [
    "### 1- La distribution des sentiments <a class=\"anchor\" id=\"section_4_1\"></a>"
   ],
   "metadata": {
    "id": "68cabc6d"
   }
  },
  {
   "cell_type": "code",
   "execution_count": 16,
   "source": [
    "pie(data,\"sentiment\")"
   ],
   "outputs": [
    {
     "output_type": "display_data",
     "data": {
      "image/png": "[encoded data removed]",
      "text/plain": [
       "<Figure size 432x288 with 1 Axes>"
      ]
     },
     "metadata": {}
    }
   ],
   "metadata": {
    "colab": {
     "base_uri": "https://localhost:8080/",
     "height": 0
    },
    "executionInfo": {
     "elapsed": 15,
     "status": "ok",
     "timestamp": 1631894722878,
     "user": {
      "displayName": "Mohammed Bouri",
      "photoUrl": "https://lh3.googleusercontent.com/a-/AOh14GgsD5NIgXXj-zXbzyCtm7POociYhjAW2byfLAl-=s64",
      "userId": "01774390682454389279"
     },
     "user_tz": -60
    },
    "id": "eb60d227",
    "outputId": "584e2f62-db0b-4747-b704-25d60a205c82"
   }
  },
  {
   "cell_type": "code",
   "execution_count": 17,
   "source": [
    "histo(data,\"sentiment\")"
   ],
   "outputs": [
    {
     "output_type": "display_data",
     "data": {
      "image/png": "[encoded data removed]",
      "text/plain": [
       "<Figure size 720x576 with 1 Axes>"
      ]
     },
     "metadata": {
      "needs_background": "light"
     }
    }
   ],
   "metadata": {
    "colab": {
     "base_uri": "https://localhost:8080/",
     "height": 0
    },
    "executionInfo": {
     "elapsed": 2428,
     "status": "ok",
     "timestamp": 1631894725292,
     "user": {
      "displayName": "Mohammed Bouri",
      "photoUrl": "https://lh3.googleusercontent.com/a-/AOh14GgsD5NIgXXj-zXbzyCtm7POociYhjAW2byfLAl-=s64",
      "userId": "01774390682454389279"
     },
     "user_tz": -60
    },
    "id": "7830a5a8",
    "outputId": "e310b08a-37f5-4ea9-d614-c9d18583039f"
   }
  },
  {
   "cell_type": "markdown",
   "source": [
    "***Commentaire :***\n",
    "\n",
    "- D'après les résultats obtenus, on peut conclure qu'on a ***une base de données équilibrée***."
   ],
   "metadata": {
    "id": "b5ae3259"
   }
  },
  {
   "cell_type": "markdown",
   "source": [
    "### 2- La taille des commentaires <a class=\"anchor\" id=\"section_4_2\"></a>"
   ],
   "metadata": {
    "id": "2ded8e26"
   }
  },
  {
   "cell_type": "markdown",
   "source": [
    "Dans le but d'avoir une idée générale sur le comportement des utilisateurs, la taille des commentaires peut nous donner un aperçu sur l'utilisation de la langue.\n",
    "\n",
    "Or, même pour l'étape de la vectorisation des données, cette partie va nous donner une idée sur la taille des vecteurs et même du vocabulaire."
   ],
   "metadata": {
    "id": "4bd40085"
   }
  },
  {
   "cell_type": "code",
   "execution_count": 18,
   "source": [
    "def compte_mots(phrase):\n",
    "    return len(phrase.split())"
   ],
   "outputs": [],
   "metadata": {
    "executionInfo": {
     "elapsed": 8,
     "status": "ok",
     "timestamp": 1631894725292,
     "user": {
      "displayName": "Mohammed Bouri",
      "photoUrl": "https://lh3.googleusercontent.com/a-/AOh14GgsD5NIgXXj-zXbzyCtm7POociYhjAW2byfLAl-=s64",
      "userId": "01774390682454389279"
     },
     "user_tz": -60
    },
    "id": "34b3ce26"
   }
  },
  {
   "cell_type": "code",
   "execution_count": 19,
   "source": [
    "positive_data = data[data[\"sentiment\"] == 0]\n",
    "\n",
    "negative_data = data[data[\"sentiment\"] == 1]"
   ],
   "outputs": [],
   "metadata": {
    "executionInfo": {
     "elapsed": 8,
     "status": "ok",
     "timestamp": 1631894725293,
     "user": {
      "displayName": "Mohammed Bouri",
      "photoUrl": "https://lh3.googleusercontent.com/a-/AOh14GgsD5NIgXXj-zXbzyCtm7POociYhjAW2byfLAl-=s64",
      "userId": "01774390682454389279"
     },
     "user_tz": -60
    },
    "id": "97dcff57"
   }
  },
  {
   "cell_type": "code",
   "execution_count": 20,
   "source": [
    "positive_data[\"Number_of_words\"] = positive_data.Review.apply(lambda x: compte_mots(x))\n",
    "negative_data[\"Number_of_words\"] = negative_data.Review.apply(lambda x: compte_mots(x))"
   ],
   "outputs": [],
   "metadata": {
    "executionInfo": {
     "elapsed": 538,
     "status": "ok",
     "timestamp": 1631894725823,
     "user": {
      "displayName": "Mohammed Bouri",
      "photoUrl": "https://lh3.googleusercontent.com/a-/AOh14GgsD5NIgXXj-zXbzyCtm7POociYhjAW2byfLAl-=s64",
      "userId": "01774390682454389279"
     },
     "user_tz": -60
    },
    "id": "482ba040"
   }
  },
  {
   "cell_type": "code",
   "execution_count": 21,
   "source": [
    "print(\"Le maximum de mots utilisé dans les reviews positives est :\", max(positive_data.Number_of_words))\n",
    "print(\"Le maximum de mots utilisé dans les reviews négatives est :\", max(negative_data.Number_of_words))"
   ],
   "outputs": [
    {
     "output_type": "stream",
     "name": "stdout",
     "text": [
      "Le maximum de mots utilisé dans les reviews positives est : 57\n",
      "Le maximum de mots utilisé dans les reviews négatives est : 64\n"
     ]
    }
   ],
   "metadata": {
    "colab": {
     "base_uri": "https://localhost:8080/"
    },
    "executionInfo": {
     "elapsed": 3,
     "status": "ok",
     "timestamp": 1631894725823,
     "user": {
      "displayName": "Mohammed Bouri",
      "photoUrl": "https://lh3.googleusercontent.com/a-/AOh14GgsD5NIgXXj-zXbzyCtm7POociYhjAW2byfLAl-=s64",
      "userId": "01774390682454389279"
     },
     "user_tz": -60
    },
    "id": "f73400e2",
    "outputId": "c90eadff-8940-412c-bf43-23b3d8872fb0"
   }
  },
  {
   "cell_type": "markdown",
   "source": [
    "***Remarque :***\n",
    "\n",
    "- Dans le but d'avoir une idée générale sur le comportement des gens qui laissent des commentaires positifs contre ceux qu'ils laissent des commentaires négatifs, nous allons visualiser le graphe suivant : "
   ],
   "metadata": {
    "id": "c76cd7ea"
   }
  },
  {
   "cell_type": "code",
   "execution_count": 22,
   "source": [
    "plt.figure(figsize=(10,9))\n",
    "\n",
    "p1=sns.kdeplot(positive_data['Number_of_words'], hue = data['sentiment'],  shade=True, color=\"r\")\n",
    "p1=sns.kdeplot(negative_data['Number_of_words'], shade=True, color=\"b\")\n",
    "\n",
    "plt.xlim(0, 200)"
   ],
   "outputs": [
    {
     "output_type": "execute_result",
     "data": {
      "text/plain": [
       "(0.0, 200.0)"
      ]
     },
     "metadata": {},
     "execution_count": 22
    },
    {
     "output_type": "display_data",
     "data": {
      "image/png": "[encoded data removed]",
      "text/plain": [
       "<Figure size 720x648 with 1 Axes>"
      ]
     },
     "metadata": {
      "needs_background": "light"
     }
    }
   ],
   "metadata": {
    "colab": {
     "base_uri": "https://localhost:8080/",
     "height": 0
    },
    "executionInfo": {
     "elapsed": 10532,
     "status": "ok",
     "timestamp": 1631894736353,
     "user": {
      "displayName": "Mohammed Bouri",
      "photoUrl": "https://lh3.googleusercontent.com/a-/AOh14GgsD5NIgXXj-zXbzyCtm7POociYhjAW2byfLAl-=s64",
      "userId": "01774390682454389279"
     },
     "user_tz": -60
    },
    "id": "2f9b19a6",
    "outputId": "75882309-fa5e-4348-e289-107361eed1d6"
   }
  },
  {
   "cell_type": "markdown",
   "source": [
    "***Commentaire :***\n",
    "\n",
    "- On remarque qu'il y a le même comportement entre les utilisateurs."
   ],
   "metadata": {
    "id": "a158ad0f"
   }
  },
  {
   "cell_type": "markdown",
   "source": [
    "## V- Nettoyage de données <a class=\"anchor\" id=\"chapter5\"></a>"
   ],
   "metadata": {
    "id": "fe1a7841"
   }
  },
  {
   "cell_type": "markdown",
   "source": [
    "Les textes de tweet se composent souvent de mentions d'autres utilisateurs, de textes de liens hypertextes, d'émoticônes et de ponctuations. \n",
    "\n",
    "Afin de les utiliser pour notre modèle. Nous ne pouvons pas autoriser ces textes pour la formation d'un modèle. \n",
    "\n",
    "Nous devons donc nettoyer les données textuelles en utilisant diverses méthodes de prétraitement et de nettoyage."
   ],
   "metadata": {
    "id": "c63738c4"
   }
  },
  {
   "cell_type": "markdown",
   "source": [
    "Pour bien rendre la manipulation des mots plus facile, nous allons définir un dictionnaire pour traiter la négation."
   ],
   "metadata": {
    "id": "f5d7fafc"
   }
  },
  {
   "cell_type": "code",
   "execution_count": 13,
   "source": [
    "dict_neg = {\"aren't\" : \"are not\",\"can't\" : \"cannot\",\"couldn't\" : \"could not\",\"didn't\" : \"did not\",\"doesn't\" : \"does not\",\n",
    "\"don't\" : \"do not\",\"hadn't\" : \"had not\",\"hasn't\" : \"has not\",\"haven't\" : \"have not\",\"he'd\" : \"he would\",\"he'll\" : \"he will\",\n",
    "\"he's\" : \"he is\",\"i'd\" : \"I would\",\"i'd\" : \"I had\",\"i'll\" : \"I will\",\"i'm\" : \"I am\",\"isn't\" : \"is not\",\"it's\" : \"it is\",\n",
    "\"it'll\":\"it will\",\"i've\" : \"I have\",\"let's\" : \"let us\",\"mightn't\" : \"might not\",\"mustn't\" : \"must not\",\"shan't\" : \"shall not\",\n",
    "\"she'd\" : \"she would\",\"she'll\" : \"she will\",\"she's\" : \"she is\",\"shouldn't\" : \"should not\",\"that's\" : \"that is\",\n",
    "\"there's\" : \"there is\",\"they'd\" : \"they would\",\"they'll\" : \"they will\",\"they're\" : \"they are\",\"they've\" : \"they have\",\n",
    "\"we'd\" : \"we would\",\"we're\" : \"we are\",\"weren't\" : \"were not\",\"we've\" : \"we have\",\"what'll\" : \"what will\",\"what're\" : \"what are\",\n",
    "\"what's\" : \"what is\",\"what've\" : \"what have\",\"where's\" : \"where is\",\"who'd\" : \"who would\",\"who'll\" : \"who will\",\n",
    "\"who're\" : \"who are\",\"who's\" : \"who is\",\"who've\" : \"who have\",\"won't\" : \"will not\",\"wouldn't\" : \"would not\",\"you'd\" : \"you would\",\n",
    "\"you'll\" : \"you will\",\"you're\" : \"you are\",\"you've\" : \"you have\",\"'re\": \" are\",\"wasn't\": \"was not\",\"we'll\":\" will\",\n",
    "\"didn't\": \"did not\"}"
   ],
   "outputs": [],
   "metadata": {
    "executionInfo": {
     "elapsed": 12,
     "status": "ok",
     "timestamp": 1631894736354,
     "user": {
      "displayName": "Mohammed Bouri",
      "photoUrl": "https://lh3.googleusercontent.com/a-/AOh14GgsD5NIgXXj-zXbzyCtm7POociYhjAW2byfLAl-=s64",
      "userId": "01774390682454389279"
     },
     "user_tz": -60
    },
    "id": "b5af8033"
   }
  },
  {
   "cell_type": "code",
   "execution_count": 14,
   "source": [
    "def preprocessing(x):\n",
    "    x = x.lower()\n",
    "    \n",
    "    x = re.sub(r\"http\\S+|www\\S+|https\\S+\",\"\", x, flags=re.MULTILINE)\n",
    "    x = x.replace(\"<br />\", \"\")\n",
    "    \n",
    "    emoji_pattern = re.compile(\"[\"\n",
    "                               u\"\\U0001F600-\\U0001F64F\"  # emoticons\n",
    "                               u\"\\U0001F300-\\U0001F5FF\"  # symbols & pictographs\n",
    "                               u\"\\U0001F680-\\U0001F6FF\"  # transport & map symbols\n",
    "                               u\"\\U0001F1E0-\\U0001F1FF\"  # flags (iOS)\n",
    "                               u\"\\U00002500-\\U00002BEF\"  # chinese char\n",
    "                               u\"\\U00002702-\\U000027B0\"\n",
    "                               u\"\\U00002702-\\U000027B0\"\n",
    "                               u\"\\U000024C2-\\U0001F251\"\n",
    "                               u\"\\U0001f926-\\U0001f937\"\n",
    "                               u\"\\U00010000-\\U0010ffff\"\n",
    "                               u\"\\u2640-\\u2642\"\n",
    "                               u\"\\u2600-\\u2B55\"\n",
    "                               u\"\\u200d\"\n",
    "                               u\"\\u23cf\"\n",
    "                               u\"\\u23e9\"\n",
    "                               u\"\\u231a\"\n",
    "                               u\"\\ufe0f\"  # dingbats\n",
    "                               u\"\\u3030\"\"]+\", flags=re.UNICODE)\n",
    "    emoji_pattern.sub(r'', x)\n",
    "    \n",
    "    words = x.split()\n",
    "    reformed = [dict_neg[i] if i in dict_neg else i for i in words]\n",
    "    x = \" \".join(reformed)\n",
    "    \n",
    "    x = re.sub(r'[^a-zA-z.,!?/:;\\\"\\'\\s]', '', x)\n",
    "    \n",
    "    x = x.translate(str.maketrans(\"\",\"\", string.punctuation))\n",
    "    \n",
    "    x = x.strip()\n",
    "    return x"
   ],
   "outputs": [],
   "metadata": {
    "executionInfo": {
     "elapsed": 11,
     "status": "ok",
     "timestamp": 1631894736354,
     "user": {
      "displayName": "Mohammed Bouri",
      "photoUrl": "https://lh3.googleusercontent.com/a-/AOh14GgsD5NIgXXj-zXbzyCtm7POociYhjAW2byfLAl-=s64",
      "userId": "01774390682454389279"
     },
     "user_tz": -60
    },
    "id": "2c8dbbe0"
   }
  },
  {
   "cell_type": "code",
   "execution_count": 15,
   "source": [
    "%%time\n",
    "data[\"Clean_reviews\"] = data.Review.apply(lambda x: preprocessing(x))"
   ],
   "outputs": [
    {
     "output_type": "stream",
     "name": "stdout",
     "text": [
      "Wall time: 18.6 s\n"
     ]
    }
   ],
   "metadata": {
    "colab": {
     "base_uri": "https://localhost:8080/"
    },
    "executionInfo": {
     "elapsed": 27995,
     "status": "ok",
     "timestamp": 1631894764339,
     "user": {
      "displayName": "Mohammed Bouri",
      "photoUrl": "https://lh3.googleusercontent.com/a-/AOh14GgsD5NIgXXj-zXbzyCtm7POociYhjAW2byfLAl-=s64",
      "userId": "01774390682454389279"
     },
     "user_tz": -60
    },
    "id": "200553c5",
    "outputId": "0fc895df-4d20-4db7-fc1f-b1f2e7f30b3a"
   }
  },
  {
   "cell_type": "code",
   "execution_count": 16,
   "source": [
    "print('- Avant le prétraitement \\n\\n',data[\"Review\"][0])\n",
    "print(\"\\n-----------------------------------------------\\n\")\n",
    "print('- Après le prétraitement \\n\\n',data[\"Clean_reviews\"][0])"
   ],
   "outputs": [
    {
     "output_type": "stream",
     "name": "stdout",
     "text": [
      "- Avant le prétraitement \n",
      "\n",
      " @switchfoot http://twitpic.com/2y1zl - Awww, that's a bummer.  You shoulda got David Carr of Third Day to do it. ;D\n",
      "\n",
      "-----------------------------------------------\n",
      "\n",
      "- Après le prétraitement \n",
      "\n",
      " switchfoot  a that is a bummer you shoulda got david carr of third day to do it d\n"
     ]
    }
   ],
   "metadata": {
    "colab": {
     "base_uri": "https://localhost:8080/"
    },
    "executionInfo": {
     "elapsed": 7,
     "status": "ok",
     "timestamp": 1631894764339,
     "user": {
      "displayName": "Mohammed Bouri",
      "photoUrl": "https://lh3.googleusercontent.com/a-/AOh14GgsD5NIgXXj-zXbzyCtm7POociYhjAW2byfLAl-=s64",
      "userId": "01774390682454389279"
     },
     "user_tz": -60
    },
    "id": "e4c15863",
    "outputId": "ce7ac260-c9da-4b25-cde7-9228549740b3"
   }
  },
  {
   "cell_type": "markdown",
   "source": [
    "***Remarque :***\n",
    "- Nous remarquons que les données sont bien prétraités et ils sont prêts pour les utiliser."
   ],
   "metadata": {
    "id": "141bfe1c"
   }
  },
  {
   "cell_type": "markdown",
   "source": [
    "## VI- Diviser les données <a class=\"anchor\" id=\"chapter6\"></a>"
   ],
   "metadata": {
    "id": "6282cf7a"
   }
  },
  {
   "cell_type": "markdown",
   "source": [
    "- Le but de cette étape est de diviser les données en deux parties :\n",
    "    - La partie d'entrainement *(Train_Set)* : **80%**\n",
    "    - La partie du test *(Test_Set)* : **20%**\n",
    "\n",
    "$$\n",
    "1.600.000 * 80\\% = 1.280.000\n",
    "$$\n",
    "$$\n",
    "1.600.000 * 20\\% = 320.000\n",
    "$$\n",
    "\n",
    "***NB :***\n",
    "- Nous allons extraire une partie de *Validation* du *Train_Set*."
   ],
   "metadata": {
    "id": "56200119"
   }
  },
  {
   "cell_type": "code",
   "execution_count": 17,
   "source": [
    "X = data.Clean_reviews\n",
    "y = data.sentiment"
   ],
   "outputs": [],
   "metadata": {
    "executionInfo": {
     "elapsed": 6,
     "status": "ok",
     "timestamp": 1631894764340,
     "user": {
      "displayName": "Mohammed Bouri",
      "photoUrl": "https://lh3.googleusercontent.com/a-/AOh14GgsD5NIgXXj-zXbzyCtm7POociYhjAW2byfLAl-=s64",
      "userId": "01774390682454389279"
     },
     "user_tz": -60
    },
    "id": "8b1a483c"
   }
  },
  {
   "cell_type": "code",
   "execution_count": 18,
   "source": [
    "X_train, X_test, y_train, y_test = train_test_split(X, \n",
    "                                                    y, \n",
    "                                                    test_size = 0.20, \n",
    "                                                    random_state = 42)"
   ],
   "outputs": [],
   "metadata": {
    "executionInfo": {
     "elapsed": 5,
     "status": "ok",
     "timestamp": 1631894764340,
     "user": {
      "displayName": "Mohammed Bouri",
      "photoUrl": "https://lh3.googleusercontent.com/a-/AOh14GgsD5NIgXXj-zXbzyCtm7POociYhjAW2byfLAl-=s64",
      "userId": "01774390682454389279"
     },
     "user_tz": -60
    },
    "id": "86756ef1"
   }
  },
  {
   "cell_type": "code",
   "execution_count": 19,
   "source": [
    "print('Train set', X_train.shape)\n",
    "print('Test set', X_test.shape)"
   ],
   "outputs": [
    {
     "output_type": "stream",
     "name": "stdout",
     "text": [
      "Train set (1280000,)\n",
      "Test set (320000,)\n"
     ]
    }
   ],
   "metadata": {
    "colab": {
     "base_uri": "https://localhost:8080/"
    },
    "executionInfo": {
     "elapsed": 4,
     "status": "ok",
     "timestamp": 1631894764340,
     "user": {
      "displayName": "Mohammed Bouri",
      "photoUrl": "https://lh3.googleusercontent.com/a-/AOh14GgsD5NIgXXj-zXbzyCtm7POociYhjAW2byfLAl-=s64",
      "userId": "01774390682454389279"
     },
     "user_tz": -60
    },
    "id": "28dc18e5",
    "outputId": "4467ab52-7fbf-4f2b-a13c-7ee918b04d1e"
   }
  },
  {
   "cell_type": "markdown",
   "source": [
    "## VII- Word2Vec <a class=\"anchor\" id=\"chapter7\"></a>"
   ],
   "metadata": {
    "id": "0490f6d7"
   }
  },
  {
   "cell_type": "markdown",
   "source": [
    "**Word Embeddings** sont essentiellement un moyen de convertir les mots en vecteurs de représentation. L'objectif est de pouvoir générer des vecteurs de représentation similaires ou proches pour des mots ayant une signification similaire.\n",
    "\n",
    "Alors pour satisfaire cela, nous allons adopter dans notre approche ***FastText***.\n",
    "\n",
    "Le lien correspond au téléchargement du Word Embeddings prétraité : [Aligned Vectors](https://fasttext.cc/docs/en/aligned-vectors.html) \n"
   ],
   "metadata": {
    "id": "b962d82a"
   }
  },
  {
   "cell_type": "markdown",
   "source": [
    "### 1- Implementer FastText <a class=\"anchor\" id=\"section_7_1\"></a>"
   ],
   "metadata": {
    "id": "b3cf4485"
   }
  },
  {
   "cell_type": "code",
   "execution_count": null,
   "source": [
    "'''Décommentez ceci pour charger Word Embeddings pour la 1er fois\n",
    "\n",
    "%%time\n",
    "source_word_vec = KeyedVectors.load_word2vec_format(\"wiki.en.align.vec.txt\", \n",
    "                                                    binary = False)\n",
    "source_word_vec.save('source_word_vec')\n",
    "\n",
    "'''"
   ],
   "outputs": [],
   "metadata": {
    "id": "23b890dc"
   }
  },
  {
   "cell_type": "code",
   "execution_count": 2,
   "source": [
    "%%time\n",
    "path_w2v = '/content/gdrive/MyDrive/Colab Notebooks/source_word_vec'\n",
    "source_word_vec = KeyedVectors.load(path_w2v)"
   ],
   "outputs": [
    {
     "output_type": "stream",
     "name": "stdout",
     "text": [
      "Wall time: 4.21 s\n"
     ]
    }
   ],
   "metadata": {
    "colab": {
     "base_uri": "https://localhost:8080/"
    },
    "executionInfo": {
     "elapsed": 59667,
     "status": "ok",
     "timestamp": 1631894824831,
     "user": {
      "displayName": "Mohammed Bouri",
      "photoUrl": "https://lh3.googleusercontent.com/a-/AOh14GgsD5NIgXXj-zXbzyCtm7POociYhjAW2byfLAl-=s64",
      "userId": "01774390682454389279"
     },
     "user_tz": -60
    },
    "id": "cedc4f4c",
    "outputId": "7dd909b2-0e54-4002-c9ff-5328d98a758d"
   }
  },
  {
   "cell_type": "markdown",
   "source": [
    "### 2- Tokenisation  <a class=\"anchor\" id=\"section_7_2\"></a>"
   ],
   "metadata": {
    "id": "2e8bb1fc"
   }
  },
  {
   "cell_type": "markdown",
   "source": [
    "A partir d'une séquence de caractères et d'une unité documentaire définie, la tokénisation consiste à la découper en morceaux, appelés tokens, en éliminant éventuellement certains caractères, comme la ponctuation. Ce processus est appelé ***tokenisation***."
   ],
   "metadata": {
    "id": "046b9cd1"
   }
  },
  {
   "cell_type": "code",
   "execution_count": 20,
   "source": [
    "%%time\n",
    "tokenizer = Tokenizer()\n",
    "tokenizer.fit_on_texts(X_train)"
   ],
   "outputs": [
    {
     "output_type": "stream",
     "name": "stdout",
     "text": [
      "Wall time: 19.1 s\n"
     ]
    }
   ],
   "metadata": {
    "colab": {
     "base_uri": "https://localhost:8080/"
    },
    "executionInfo": {
     "elapsed": 27258,
     "status": "ok",
     "timestamp": 1631894852086,
     "user": {
      "displayName": "Mohammed Bouri",
      "photoUrl": "https://lh3.googleusercontent.com/a-/AOh14GgsD5NIgXXj-zXbzyCtm7POociYhjAW2byfLAl-=s64",
      "userId": "01774390682454389279"
     },
     "user_tz": -60
    },
    "id": "5919f10f",
    "outputId": "ad914b36-c2bd-4030-aab5-5977f7abb090"
   }
  },
  {
   "cell_type": "code",
   "execution_count": 21,
   "source": [
    "word_index = tokenizer.word_index\n",
    "vocab_size = len(tokenizer.word_index) + 1"
   ],
   "outputs": [],
   "metadata": {
    "executionInfo": {
     "elapsed": 5,
     "status": "ok",
     "timestamp": 1631894852087,
     "user": {
      "displayName": "Mohammed Bouri",
      "photoUrl": "https://lh3.googleusercontent.com/a-/AOh14GgsD5NIgXXj-zXbzyCtm7POociYhjAW2byfLAl-=s64",
      "userId": "01774390682454389279"
     },
     "user_tz": -60
    },
    "id": "70a27158"
   }
  },
  {
   "cell_type": "markdown",
   "source": [
    "### 3- Padding  <a class=\"anchor\" id=\"section_7_3\"></a>"
   ],
   "metadata": {
    "id": "6e6fdd2c"
   }
  },
  {
   "cell_type": "markdown",
   "source": [
    "D'après l'analyse qui était faite au dessus, nous avons vu que le maximum de mots utilisé est environ de ***64***.\n",
    "\n",
    "Donc nous allons prendre `maxlen = 65`."
   ],
   "metadata": {
    "id": "3d7b9a98"
   }
  },
  {
   "cell_type": "code",
   "execution_count": 22,
   "source": [
    "%%time\n",
    "MAX_SEQUENCE_LENGTH = 65\n",
    "\n",
    "X_train = pad_sequences(tokenizer.texts_to_sequences(X_train),\n",
    "                        maxlen = MAX_SEQUENCE_LENGTH)\n",
    "X_test = pad_sequences(tokenizer.texts_to_sequences(X_test),\n",
    "                       maxlen = MAX_SEQUENCE_LENGTH)\n",
    "\n",
    "print(\"Training X Shape:\", X_train.shape)\n",
    "print(\"Testing X Shape:\", X_test.shape)"
   ],
   "outputs": [
    {
     "output_type": "stream",
     "name": "stdout",
     "text": [
      "Training X Shape: (1280000, 65)\n",
      "Testing X Shape: (320000, 65)\n",
      "Wall time: 24.1 s\n"
     ]
    }
   ],
   "metadata": {
    "colab": {
     "base_uri": "https://localhost:8080/"
    },
    "executionInfo": {
     "elapsed": 38176,
     "status": "ok",
     "timestamp": 1631894890259,
     "user": {
      "displayName": "Mohammed Bouri",
      "photoUrl": "https://lh3.googleusercontent.com/a-/AOh14GgsD5NIgXXj-zXbzyCtm7POociYhjAW2byfLAl-=s64",
      "userId": "01774390682454389279"
     },
     "user_tz": -60
    },
    "id": "a3a45e8a",
    "outputId": "52067eeb-4535-412c-aa21-5840a222b4b6"
   }
  },
  {
   "cell_type": "markdown",
   "source": [
    "### 4- Construire Embedding_Matrix  <a class=\"anchor\" id=\"section_7_4\"></a>"
   ],
   "metadata": {
    "id": "b4805f22"
   }
  },
  {
   "cell_type": "code",
   "execution_count": 23,
   "source": [
    "%%time\n",
    "embedding_matrix = np.zeros((vocab_size, 300))\n",
    "\n",
    "for word, i in word_index.items():\n",
    "    if word in source_word_vec :\n",
    "        embedding_vector = source_word_vec[word]\n",
    "        if embedding_vector is not None:\n",
    "            embedding_matrix[i] = embedding_vector"
   ],
   "outputs": [
    {
     "output_type": "stream",
     "name": "stdout",
     "text": [
      "Wall time: 1.05 s\n"
     ]
    }
   ],
   "metadata": {
    "colab": {
     "base_uri": "https://localhost:8080/",
     "height": 391
    },
    "executionInfo": {
     "elapsed": 212,
     "status": "error",
     "timestamp": 1631896674077,
     "user": {
      "displayName": "Mohammed Bouri",
      "photoUrl": "https://lh3.googleusercontent.com/a-/AOh14GgsD5NIgXXj-zXbzyCtm7POociYhjAW2byfLAl-=s64",
      "userId": "01774390682454389279"
     },
     "user_tz": -60
    },
    "id": "f2a6f954",
    "outputId": "cd366240-46b3-44a1-f413-4db42c1c4fcd"
   }
  },
  {
   "cell_type": "code",
   "execution_count": 24,
   "source": [
    "embedding_matrix.shape[0] == vocab_size"
   ],
   "outputs": [
    {
     "output_type": "execute_result",
     "data": {
      "text/plain": [
       "True"
      ]
     },
     "metadata": {},
     "execution_count": 24
    }
   ],
   "metadata": {
    "executionInfo": {
     "elapsed": 14,
     "status": "aborted",
     "timestamp": 1631894891206,
     "user": {
      "displayName": "Mohammed Bouri",
      "photoUrl": "https://lh3.googleusercontent.com/a-/AOh14GgsD5NIgXXj-zXbzyCtm7POociYhjAW2byfLAl-=s64",
      "userId": "01774390682454389279"
     },
     "user_tz": -60
    },
    "id": "e63137fa"
   }
  },
  {
   "cell_type": "markdown",
   "source": [
    "## VIII- Modèles <a class=\"anchor\" id=\"chapter8\"></a>"
   ],
   "metadata": {
    "id": "830d9084"
   }
  },
  {
   "cell_type": "markdown",
   "source": [
    "Nous sommes prêts maintenant à construire notre modèle de Deep Learning. Lors du développement d'un modèle Deep Learning, nous devons garder à l'esprit des éléments clés à savoir : \n",
    "- L'architecture du modèle\n",
    "- Le réglage de l'hyperparamètre\n",
    "- Les performances du modèle"
   ],
   "metadata": {
    "id": "f80efb92"
   }
  },
  {
   "cell_type": "markdown",
   "source": [
    "Pour l'architecture du modèle, nous utilisons : \n",
    "\n",
    "- **Embedding Layer** : Génère Embedding Vector pour chaque séquence d'entrée.\n",
    "\n",
    "- **Conv1D Layer** : Elle est utilisée pour convoluer les données en vecteurs de caractéristiques plus petits.\n",
    "\n",
    "- **Bi-LSTM (Bidirectional Long Short Term Memory)** : il s'agit d'une variante du RNN qui dispose d'une cellule d'état de mémoire pour apprendre le contexte des mots qui se trouvent plus loin dans le texte et qui ont une signification contextuelle plutôt que les mots voisins comme dans le cas du RNN.\n",
    "\n",
    "- **Dense Layer** : Entièrement connectées pour la classification\n",
    "\n",
    "**NB :**\n",
    "- **SpatialDropout1D Layer** : Si les cadres adjacentes dans les features sont fortement corrélées (comme c'est normalement le cas dans les premières couches de convolution), le dropout régulier ne régularisera pas les activations et ne fera que diminuer le taux d'apprentissage effectif. Dans ce cas, *SpatialDropout1D* aidera à promouvoir l'indépendance entre les features et devrait être utilisé à la place."
   ],
   "metadata": {
    "id": "80b56950"
   }
  },
  {
   "cell_type": "code",
   "execution_count": 38,
   "source": [
    "model = Sequential()\n",
    "embedding_layer = Embedding(vocab_size, \n",
    "                            300, \n",
    "                            weights = [embedding_matrix], \n",
    "                            input_length = MAX_SEQUENCE_LENGTH, \n",
    "                            trainable=False)\n",
    "model.add(embedding_layer)\n",
    "model.add(SpatialDropout1D(0.2))\n",
    "model.add(Conv1D(65, 5, activation='relu'))\n",
    "model.add(Bidirectional(LSTM(64, dropout=0.2, recurrent_dropout=0.2)))\n",
    "model.add(Dense(512, activation='relu'))\n",
    "model.add(Dropout(0.5))\n",
    "model.add(Dense(512, activation='relu'))\n",
    "model.add(Dense(1, activation='sigmoid'))\n",
    "\n",
    "model.compile(optimizer = Adam(learning_rate=0.001), \n",
    "              loss = 'binary_crossentropy',\n",
    "              metrics = ['accuracy'])\n",
    "ReduceLROnPlateau = ReduceLROnPlateau(factor=0.1,\n",
    "                                     min_lr = 0.01,\n",
    "                                     monitor = 'val_loss',\n",
    "                                     verbose = 1)\n",
    "print(model.summary())"
   ],
   "outputs": [
    {
     "output_type": "stream",
     "name": "stdout",
     "text": [
      "WARNING:tensorflow:Layer lstm will not use cuDNN kernels since it doesn't meet the criteria. It will use a generic GPU kernel as fallback when running on GPU.\n",
      "WARNING:tensorflow:Layer lstm will not use cuDNN kernels since it doesn't meet the criteria. It will use a generic GPU kernel as fallback when running on GPU.\n",
      "WARNING:tensorflow:Layer lstm will not use cuDNN kernels since it doesn't meet the criteria. It will use a generic GPU kernel as fallback when running on GPU.\n",
      "Model: \"sequential\"\n",
      "_________________________________________________________________\n",
      "Layer (type)                 Output Shape              Param #   \n",
      "=================================================================\n",
      "embedding (Embedding)        (None, 65, 300)           188725200 \n",
      "_________________________________________________________________\n",
      "spatial_dropout1d (SpatialDr (None, 65, 300)           0         \n",
      "_________________________________________________________________\n",
      "conv1d (Conv1D)              (None, 61, 65)            97565     \n",
      "_________________________________________________________________\n",
      "bidirectional (Bidirectional (None, 128)               66560     \n",
      "_________________________________________________________________\n",
      "dense (Dense)                (None, 512)               66048     \n",
      "_________________________________________________________________\n",
      "dropout (Dropout)            (None, 512)               0         \n",
      "_________________________________________________________________\n",
      "dense_1 (Dense)              (None, 512)               262656    \n",
      "_________________________________________________________________\n",
      "dense_2 (Dense)              (None, 1)                 513       \n",
      "=================================================================\n",
      "Total params: 189,218,542\n",
      "Trainable params: 493,342\n",
      "Non-trainable params: 188,725,200\n",
      "_________________________________________________________________\n",
      "None\n"
     ]
    }
   ],
   "metadata": {
    "colab": {
     "base_uri": "https://localhost:8080/"
    },
    "executionInfo": {
     "elapsed": 7351,
     "status": "ok",
     "timestamp": 1631868623681,
     "user": {
      "displayName": "Mohammed Bouri",
      "photoUrl": "https://lh3.googleusercontent.com/a-/AOh14GgsD5NIgXXj-zXbzyCtm7POociYhjAW2byfLAl-=s64",
      "userId": "01774390682454389279"
     },
     "user_tz": -60
    },
    "id": "fa98d047",
    "outputId": "98cb4489-5ea1-4329-bac1-11f136786b16"
   }
  },
  {
   "cell_type": "code",
   "execution_count": 39,
   "source": [
    "history = model.fit(X_train, y_train, batch_size=1024, epochs=10,\n",
    "                    validation_data=(X_test, y_test), callbacks=[ReduceLROnPlateau])"
   ],
   "outputs": [
    {
     "output_type": "stream",
     "name": "stdout",
     "text": [
      "Epoch 1/10\n",
      "1250/1250 [==============================] - 543s 410ms/step - loss: 0.4861 - accuracy: 0.7633 - val_loss: 0.4284 - val_accuracy: 0.8009\n",
      "Epoch 2/10\n",
      "1250/1250 [==============================] - 512s 410ms/step - loss: 0.4428 - accuracy: 0.7928 - val_loss: 0.4190 - val_accuracy: 0.8073\n",
      "Epoch 3/10\n",
      "1250/1250 [==============================] - 514s 412ms/step - loss: 0.4296 - accuracy: 0.8007 - val_loss: 0.4094 - val_accuracy: 0.8113\n",
      "Epoch 4/10\n",
      "1250/1250 [==============================] - 514s 411ms/step - loss: 0.4213 - accuracy: 0.8053 - val_loss: 0.4043 - val_accuracy: 0.8152\n",
      "Epoch 5/10\n",
      "1250/1250 [==============================] - 514s 411ms/step - loss: 0.4152 - accuracy: 0.8093 - val_loss: 0.4050 - val_accuracy: 0.8157\n",
      "Epoch 6/10\n",
      "1250/1250 [==============================] - 513s 410ms/step - loss: 0.4103 - accuracy: 0.8116 - val_loss: 0.3976 - val_accuracy: 0.8189\n",
      "Epoch 7/10\n",
      "1250/1250 [==============================] - 512s 410ms/step - loss: 0.4066 - accuracy: 0.8136 - val_loss: 0.3974 - val_accuracy: 0.8189\n",
      "Epoch 8/10\n",
      "1250/1250 [==============================] - 510s 408ms/step - loss: 0.4035 - accuracy: 0.8155 - val_loss: 0.3974 - val_accuracy: 0.8193\n",
      "Epoch 9/10\n",
      "1250/1250 [==============================] - 510s 408ms/step - loss: 0.4017 - accuracy: 0.8169 - val_loss: 0.3968 - val_accuracy: 0.8194\n",
      "Epoch 10/10\n",
      "1250/1250 [==============================] - 510s 408ms/step - loss: 0.3994 - accuracy: 0.8176 - val_loss: 0.3951 - val_accuracy: 0.8203\n"
     ]
    }
   ],
   "metadata": {
    "colab": {
     "base_uri": "https://localhost:8080/"
    },
    "executionInfo": {
     "elapsed": 5152194,
     "status": "ok",
     "timestamp": 1631873792325,
     "user": {
      "displayName": "Mohammed Bouri",
      "photoUrl": "https://lh3.googleusercontent.com/a-/AOh14GgsD5NIgXXj-zXbzyCtm7POociYhjAW2byfLAl-=s64",
      "userId": "01774390682454389279"
     },
     "user_tz": -60
    },
    "id": "a7fe2246",
    "outputId": "a9f5948e-ebef-4e19-fa59-4485396233bd"
   }
  },
  {
   "cell_type": "code",
   "execution_count": 40,
   "source": [
    "s, (at, al) = plt.subplots(2,1)\n",
    "at.plot(history.history['accuracy'], c= 'b')\n",
    "at.plot(history.history['val_accuracy'], c='r')\n",
    "at.set_title('model accuracy')\n",
    "at.set_ylabel('accuracy')\n",
    "at.set_xlabel('epoch')\n",
    "at.legend(['LSTM_train', 'LSTM_val'], loc='upper left')\n",
    "\n",
    "al.plot(history.history['loss'], c='m')\n",
    "al.plot(history.history['val_loss'], c='c')\n",
    "al.set_title('model loss')\n",
    "al.set_ylabel('loss')\n",
    "al.set_xlabel('epoch')\n",
    "al.legend(['train', 'val'], loc = 'upper left')"
   ],
   "outputs": [
    {
     "output_type": "execute_result",
     "data": {
      "text/plain": [
       "<matplotlib.legend.Legend at 0x7f0a97192f50>"
      ]
     },
     "metadata": {},
     "execution_count": 40
    },
    {
     "output_type": "display_data",
     "data": {
      "image/png": "[encoded data removed]",
      "text/plain": [
       "<Figure size 432x288 with 2 Axes>"
      ]
     },
     "metadata": {
      "needs_background": "light"
     }
    }
   ],
   "metadata": {
    "colab": {
     "base_uri": "https://localhost:8080/",
     "height": 312
    },
    "executionInfo": {
     "elapsed": 1078,
     "status": "ok",
     "timestamp": 1631873795784,
     "user": {
      "displayName": "Mohammed Bouri",
      "photoUrl": "https://lh3.googleusercontent.com/a-/AOh14GgsD5NIgXXj-zXbzyCtm7POociYhjAW2byfLAl-=s64",
      "userId": "01774390682454389279"
     },
     "user_tz": -60
    },
    "id": "WkYx1TkP-X6a",
    "outputId": "daea9858-bcec-441a-ff7b-d58170b27687"
   }
  },
  {
   "cell_type": "markdown",
   "source": [
    "## IX- Evaluation <a class=\"anchor\" id=\"chapter9\"></a>"
   ],
   "metadata": {}
  },
  {
   "cell_type": "code",
   "execution_count": 36,
   "source": [
    "score = model.evaluate(X_test, y_test, verbose=1)\n",
    "print(\"%s: %.2f%%\" % (model.metrics_names[1], score[1]*100))"
   ],
   "outputs": [
    {
     "output_type": "stream",
     "name": "stdout",
     "text": [
      "10000/10000 [==============================] - 573s 55ms/step - loss: 0.3951 - accuracy: 0.8203\n",
      "accuracy: 82.03%\n"
     ]
    }
   ],
   "metadata": {
    "colab": {
     "base_uri": "https://localhost:8080/"
    },
    "executionInfo": {
     "elapsed": 572943,
     "status": "ok",
     "timestamp": 1631895592441,
     "user": {
      "displayName": "Mohammed Bouri",
      "photoUrl": "https://lh3.googleusercontent.com/a-/AOh14GgsD5NIgXXj-zXbzyCtm7POociYhjAW2byfLAl-=s64",
      "userId": "01774390682454389279"
     },
     "user_tz": -60
    },
    "id": "U6l3rHHchRbc",
    "outputId": "e64ca83b-bab0-42ae-862b-9eccc0c4986b"
   }
  },
  {
   "cell_type": "code",
   "execution_count": 59,
   "source": [
    "model.save(\"/content/gdrive/MyDrive/Colab Notebooks/model.h5\")\n",
    "print(\"Saved model to disk\")"
   ],
   "outputs": [
    {
     "output_type": "stream",
     "name": "stdout",
     "text": [
      "Saved model to disk\n"
     ]
    }
   ],
   "metadata": {
    "colab": {
     "base_uri": "https://localhost:8080/"
    },
    "executionInfo": {
     "elapsed": 4132,
     "status": "ok",
     "timestamp": 1631875384719,
     "user": {
      "displayName": "Mohammed Bouri",
      "photoUrl": "https://lh3.googleusercontent.com/a-/AOh14GgsD5NIgXXj-zXbzyCtm7POociYhjAW2byfLAl-=s64",
      "userId": "01774390682454389279"
     },
     "user_tz": -60
    },
    "id": "PcziiS55UvOg",
    "outputId": "b2b30d4a-9fce-45e8-fcdd-a812b72716fe"
   }
  },
  {
   "cell_type": "code",
   "execution_count": null,
   "source": [
    "'''Décommentez ceci pour charger le modèle \n",
    "\n",
    "path_model = '/content/gdrive/MyDrive/Colab Notebooks/model.h5'\n",
    "model = load_model(path_model)\n",
    "\n",
    "'''"
   ],
   "outputs": [],
   "metadata": {}
  },
  {
   "cell_type": "code",
   "execution_count": 37,
   "source": [
    "def decode_sentiment(score):\n",
    "    return 1 if score>0.5 else 0"
   ],
   "outputs": [],
   "metadata": {
    "executionInfo": {
     "elapsed": 525,
     "status": "ok",
     "timestamp": 1631895809332,
     "user": {
      "displayName": "Mohammed Bouri",
      "photoUrl": "https://lh3.googleusercontent.com/a-/AOh14GgsD5NIgXXj-zXbzyCtm7POociYhjAW2byfLAl-=s64",
      "userId": "01774390682454389279"
     },
     "user_tz": -60
    },
    "id": "2zhVoo5m-ZD_"
   }
  },
  {
   "cell_type": "code",
   "execution_count": 38,
   "source": [
    "scores = model.predict(X_test, verbose=1)\n",
    "\n",
    "y_pred_1d = [decode_sentiment(score) for score in scores]"
   ],
   "outputs": [
    {
     "output_type": "stream",
     "name": "stdout",
     "text": [
      "10000/10000 [==============================] - 493s 49ms/step\n"
     ]
    }
   ],
   "metadata": {
    "colab": {
     "base_uri": "https://localhost:8080/"
    },
    "executionInfo": {
     "elapsed": 503113,
     "status": "ok",
     "timestamp": 1631896331256,
     "user": {
      "displayName": "Mohammed Bouri",
      "photoUrl": "https://lh3.googleusercontent.com/a-/AOh14GgsD5NIgXXj-zXbzyCtm7POociYhjAW2byfLAl-=s64",
      "userId": "01774390682454389279"
     },
     "user_tz": -60
    },
    "id": "UXCYC-CwkffU",
    "outputId": "b434fbaa-727c-402a-f794-ce3e9c6855a8"
   }
  },
  {
   "cell_type": "code",
   "execution_count": 45,
   "source": [
    "print(classification_report(y_test, y_pred_1d))"
   ],
   "outputs": [
    {
     "output_type": "stream",
     "name": "stdout",
     "text": [
      "              precision    recall  f1-score   support\n",
      "\n",
      "           0       0.80      0.86      0.83    159494\n",
      "           1       0.85      0.79      0.81    160506\n",
      "\n",
      "    accuracy                           0.82    320000\n",
      "   macro avg       0.82      0.82      0.82    320000\n",
      "weighted avg       0.82      0.82      0.82    320000\n",
      "\n"
     ]
    }
   ],
   "metadata": {
    "colab": {
     "base_uri": "https://localhost:8080/"
    },
    "executionInfo": {
     "elapsed": 820,
     "status": "ok",
     "timestamp": 1631896627221,
     "user": {
      "displayName": "Mohammed Bouri",
      "photoUrl": "https://lh3.googleusercontent.com/a-/AOh14GgsD5NIgXXj-zXbzyCtm7POociYhjAW2byfLAl-=s64",
      "userId": "01774390682454389279"
     },
     "user_tz": -60
    },
    "id": "YTBOn2qK-86c",
    "outputId": "8ce66a30-edbc-4b5a-8b3a-418ce4a31eea"
   }
  }
 ],
 "metadata": {
  "accelerator": "GPU",
  "colab": {
   "collapsed_sections": [
    "18ba6390",
    "afb70db2",
    "fe1a7841",
    "6282cf7a",
    "b3cf4485",
    "2e8bb1fc",
    "6e6fdd2c"
   ],
   "name": "Sentiment140 dataset with 1.6 million tweets (1).ipynb",
   "provenance": []
  },
  "kernelspec": {
   "display_name": "Python 3",
   "language": "python",
   "name": "python3"
  },
  "language_info": {
   "codemirror_mode": {
    "name": "ipython",
    "version": 3
   },
   "file_extension": ".py",
   "mimetype": "text/x-python",
   "name": "python",
   "nbconvert_exporter": "python",
   "pygments_lexer": "ipython3",
   "version": "3.8.8"
  }
 },
 "nbformat": 4,
 "nbformat_minor": 5
}